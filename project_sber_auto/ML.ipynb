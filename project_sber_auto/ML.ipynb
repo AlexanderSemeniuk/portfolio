{
 "cells": [
  {
   "cell_type": "code",
   "execution_count": 1,
   "id": "initial_id",
   "metadata": {
    "collapsed": true
   },
   "outputs": [],
   "source": [
    "import pandas as pd\n",
    "import numpy as np\n",
    "import missingno as msno \n",
    "import matplotlib.pyplot as plt\n",
    "plt.style.use('classic')\n",
    "import seaborn as sns\n",
    "from matplotlib.ticker import FormatStrFormatter\n",
    "\n",
    "from sklearn.model_selection import train_test_split\n",
    "from sklearn.metrics import accuracy_score, confusion_matrix, mean_absolute_error\n",
    "from sklearn.ensemble import RandomForestClassifier\n",
    "\n",
    "from sklearn.model_selection import GridSearchCV\n",
    "\n",
    "from sklearn.linear_model import LogisticRegression, LinearRegression\n",
    "from sklearn.neural_network import MLPClassifier\n",
    "from sklearn.svm import SVC\n",
    "from sklearn.ensemble import RandomForestClassifier\n",
    "\n",
    "from sklearn.metrics import roc_curve, auc\n",
    "from sklearn.metrics import roc_auc_score\n",
    "\n",
    "from sklearn.model_selection import cross_validate, cross_val_score, cross_val_predict\n",
    "\n"
   ]
  },
  {
   "cell_type": "code",
   "execution_count": 2,
   "id": "3adf3c44",
   "metadata": {},
   "outputs": [
    {
     "data": {
      "text/plain": [
       "(1781974, 174)"
      ]
     },
     "execution_count": 2,
     "metadata": {},
     "output_type": "execute_result"
    }
   ],
   "source": [
    "df_ml = pd.read_csv('data/df_forML.csv', low_memory=False)\n",
    "df_ml.shape"
   ]
  },
  {
   "cell_type": "code",
   "execution_count": 3,
   "id": "f939fed4",
   "metadata": {},
   "outputs": [],
   "source": [
    "x = df_ml.drop(['target'], axis=1)# без целевой переменной\n",
    "y = df_ml['target']# только с целевой переменной"
   ]
  },
  {
   "cell_type": "code",
   "execution_count": 4,
   "id": "277c000d",
   "metadata": {},
   "outputs": [],
   "source": [
    "x_train, x_test, y_train, y_test = train_test_split(\n",
    "    x, y, test_size=0.3, random_state=42\n",
    ")"
   ]
  },
  {
   "cell_type": "markdown",
   "id": "514b4642",
   "metadata": {},
   "source": [
    "## Модель Случайного леса"
   ]
  },
  {
   "cell_type": "code",
   "execution_count": 15,
   "id": "35b7a319",
   "metadata": {},
   "outputs": [
    {
     "name": "stdout",
     "output_type": "stream",
     "text": [
      "0.6392817774259136\n",
      "0.49267562168462375\n"
     ]
    },
    {
     "data": {
      "text/plain": [
       "array([[510630,   8696],\n",
       "       [ 15235,     32]], dtype=int64)"
      ]
     },
     "execution_count": 15,
     "metadata": {},
     "output_type": "execute_result"
    }
   ],
   "source": [
    "# cлучайный лес\n",
    "rf_clf = RandomForestClassifier()#инициализируем случайный лес\n",
    "rf_clf.fit(x_train, y_train) #обучаем модель на тренировочных данных\n",
    "predicted_train_rf = rf_clf.predict(x_train)#значения показанные моделью на тренировочной выборке\n",
    "predicted_test_rf = rf_clf.predict(x_test)#значения которые показала модель на тестовой выборке\n",
    "print(roc_auc_score(y_train, predicted_train_rf))#точность предсказаний модели на тренировочной выборке\n",
    "print(roc_auc_score(y_test, predicted_test_rf))#точность предсказаний модели на тестовой выборке\n",
    "confusion_matrix(y_test, predicted_test_rf)#Матрица Ошибок"
   ]
  },
  {
   "cell_type": "code",
   "execution_count": 16,
   "id": "4c11316c",
   "metadata": {},
   "outputs": [
    {
     "data": {
      "text/plain": [
       "[]"
      ]
     },
     "execution_count": 16,
     "metadata": {},
     "output_type": "execute_result"
    }
   ],
   "source": [
    "f_imp_list = list(zip(x_train.columns, rf_clf.feature_importances_))#Ищем нулевые фичи\n",
    "to_drop = []\n",
    "for i in f_imp_list:\n",
    "    if i[1] == 0:\n",
    "        to_drop.append(i[0])\n",
    "to_drop #Нулевых фич неоказалось"
   ]
  },
  {
   "cell_type": "code",
   "execution_count": 18,
   "id": "fd3b8e85",
   "metadata": {},
   "outputs": [
    {
     "data": {
      "text/plain": [
       "[('hour_std', 0.19534788279143478),\n",
       " ('device_screen_resolution_std', 0.18795789927134884),\n",
       " ('day_std', 0.16912407121589024),\n",
       " ('dayofweek_std', 0.09258028740432259),\n",
       " ('visit_number_std', 0.08015637844584479),\n",
       " ('geo_city_new_std', 0.07259524204095266),\n",
       " ('mounth_std', 0.05614188849485666),\n",
       " ('day_time_std', 0.039110474524311704),\n",
       " ('device_browser_Chrome', 0.00774858985781719),\n",
       " ('geo_country_std', 0.005691729997559292)]"
      ]
     },
     "execution_count": 18,
     "metadata": {},
     "output_type": "execute_result"
    }
   ],
   "source": [
    "f_imp_list.sort(key = lambda x: x[1], reverse=True)\n",
    "f_imp_list[:10]\n",
    "# 9 из 10 фич оказывающих наибольшее влияние - сгенерированые числовые фичи"
   ]
  },
  {
   "cell_type": "markdown",
   "id": "049cc030",
   "metadata": {},
   "source": [
    "### тюнинг модели случайного леса(производился ниже на урезанном датасете, здесь вставлены лучшие параметры)"
   ]
  },
  {
   "cell_type": "code",
   "execution_count": 19,
   "id": "b929e168",
   "metadata": {},
   "outputs": [
    {
     "name": "stdout",
     "output_type": "stream",
     "text": [
      "roc_auc_score для модели случайного леса на тренировочной выборке: 0.623\n",
      "roc_auc_score для модели случайного леса на тестовой выборке: 0.493\n"
     ]
    },
    {
     "data": {
      "text/plain": [
       "array([[510773,   8553],\n",
       "       [ 15240,     27]], dtype=int64)"
      ]
     },
     "execution_count": 19,
     "metadata": {},
     "output_type": "execute_result"
    }
   ],
   "source": [
    "rf_tuned = RandomForestClassifier(max_features='log2', min_samples_leaf=1, n_estimators=1000)\n",
    "rf_tuned.fit(x_train, y_train)\n",
    "predicted_train_rf_tuned = rf_tuned.predict(x_train)#значения показанные моделью на тренировочной выборке\n",
    "predicted_test_rf_tuned = rf_tuned.predict(x_test)#значения которые показала модель на тестовой выборке\n",
    "print(f\"roc_auc_score для модели случайного леса на тренировочной выборке: \"\n",
    "      f\"{roc_auc_score(y_train, predicted_train_rf_tuned):.3f}\") #точность предсказаний модели на тренировочной выборке\n",
    "print(f\"roc_auc_score для модели случайного леса на тестовой выборке: \"\n",
    "      f\"{roc_auc_score(y_test, predicted_test_rf_tuned):.3f}\") #точность предсказаний модели на тестовой выборке\n",
    "\n",
    "confusion_matrix(y_test, predicted_test_rf_tuned)#Матрица Ошибок"
   ]
  },
  {
   "cell_type": "markdown",
   "id": "759bea43",
   "metadata": {},
   "source": [
    "## Модель логистической регрессии"
   ]
  },
  {
   "cell_type": "code",
   "execution_count": 10,
   "id": "0289b8be",
   "metadata": {},
   "outputs": [
    {
     "name": "stderr",
     "output_type": "stream",
     "text": [
      "d:\\Program files\\Lib\\site-packages\\sklearn\\linear_model\\_logistic.py:460: ConvergenceWarning: lbfgs failed to converge (status=1):\n",
      "STOP: TOTAL NO. of ITERATIONS REACHED LIMIT.\n",
      "\n",
      "Increase the number of iterations (max_iter) or scale the data as shown in:\n",
      "    https://scikit-learn.org/stable/modules/preprocessing.html\n",
      "Please also refer to the documentation for alternative solver options:\n",
      "    https://scikit-learn.org/stable/modules/linear_model.html#logistic-regression\n",
      "  n_iter_i = _check_optimize_result(\n"
     ]
    },
    {
     "name": "stdout",
     "output_type": "stream",
     "text": [
      "0.5\n",
      "0.5\n"
     ]
    },
    {
     "data": {
      "text/plain": [
       "array([[519326,      0],\n",
       "       [ 15267,      0]], dtype=int64)"
      ]
     },
     "execution_count": 10,
     "metadata": {},
     "output_type": "execute_result"
    }
   ],
   "source": [
    "logreg = LogisticRegression()#объявляем модель с дефолтными параметрами\n",
    "logreg.fit(x_train, y_train)#обучаем модель на тренировочной выборке\n",
    "predicted_train_lr = logreg.predict(x_train)#значения показанные моделью на тренировочной выборке\n",
    "predicted_test_lr = logreg.predict(x_test)#значения которые показала модель на тестовой выборке\n",
    "print(roc_auc_score(y_train, predicted_train_lr))#точность предсказаний модели на тренировочной выборке\n",
    "print(roc_auc_score(y_test, predicted_test_lr))#точность предсказаний модели на тестовой выборке\n",
    "confusion_matrix(y_test, predicted_test_lr)#Матрица Ошибок"
   ]
  },
  {
   "cell_type": "code",
   "execution_count": 11,
   "id": "a7c6cbbb",
   "metadata": {},
   "outputs": [
    {
     "data": {
      "text/plain": [
       "[]"
      ]
     },
     "execution_count": 11,
     "metadata": {},
     "output_type": "execute_result"
    }
   ],
   "source": [
    "#Ищем нулевые фичи\n",
    "coef_logr = list(zip(x_train.columns, logreg.coef_[0]))\n",
    "to_drop = []\n",
    "for i in coef_logr:\n",
    "    if i[1] == 0:\n",
    "        to_drop.append(i[0])\n",
    "to_drop"
   ]
  },
  {
   "cell_type": "markdown",
   "id": "127ad2c3",
   "metadata": {},
   "source": [
    "### Тюнинг модели логистической регрессии(производился ниже на урезанном датасете, здесь вставлены лучшие параметры)"
   ]
  },
  {
   "cell_type": "code",
   "execution_count": 14,
   "id": "4df614e6",
   "metadata": {},
   "outputs": [
    {
     "name": "stdout",
     "output_type": "stream",
     "text": [
      "0.5\n",
      "0.5\n"
     ]
    },
    {
     "data": {
      "text/plain": [
       "array([[519326,      0],\n",
       "       [ 15267,      0]], dtype=int64)"
      ]
     },
     "execution_count": 14,
     "metadata": {},
     "output_type": "execute_result"
    }
   ],
   "source": [
    "logreg_tuned = LogisticRegression(C= 1, penalty= 'l1', solver= 'liblinear')\n",
    "logreg_tuned.fit(x_train, y_train)\n",
    "predicted_train_lrt = logreg_tuned.predict(x_train)#значения показанные моделью на тренировочной выборке\n",
    "predicted_test_lrt = logreg_tuned.predict(x_test)#значения которые показала модель на тестовой выборке\n",
    "print(roc_auc_score(y_train, predicted_train_lrt))#точность предсказаний модели на тренировочной выборке\n",
    "print(roc_auc_score(y_test, predicted_test_lrt))#точность предсказаний модели на тестовой выборке\n",
    "confusion_matrix(y_test, predicted_test_lrt)#Матрица Ошибок"
   ]
  },
  {
   "cell_type": "markdown",
   "id": "46cc516f",
   "metadata": {},
   "source": [
    "## Модель многослойного персептрона"
   ]
  },
  {
   "cell_type": "code",
   "execution_count": 13,
   "id": "0967bf4d",
   "metadata": {},
   "outputs": [
    {
     "name": "stdout",
     "output_type": "stream",
     "text": [
      "roc_auc_score для модели многослойного персептрона на тренировочной выборке: 0.500\n",
      "roc_auc_score для модели лмногослойного персептрона на тестовой выборке: 0.500\n"
     ]
    },
    {
     "data": {
      "text/plain": [
       "array([[519317,      9],\n",
       "       [ 15260,      7]], dtype=int64)"
      ]
     },
     "execution_count": 13,
     "metadata": {},
     "output_type": "execute_result"
    }
   ],
   "source": [
    "mlp = MLPClassifier()\n",
    "mlp.fit(x_train, y_train)\n",
    "pred_train_mlp = mlp.predict(x_train)\n",
    "pred_tets_mlp = mlp.predict(x_test)\n",
    "print(f\"roc_auc_score для модели многослойного персептрона на тренировочной выборке: \"\n",
    "      f\"{roc_auc_score(y_train, pred_train_mlp):.3f}\")\n",
    "print(f\"roc_auc_score для модели лмногослойного персептрона на тестовой выборке: \"\n",
    "      f\"{roc_auc_score(y_test, pred_tets_mlp):.3f}\")\n",
    "confusion_matrix(y_test, pred_tets_mlp )"
   ]
  },
  {
   "cell_type": "markdown",
   "id": "4c2fcca5",
   "metadata": {},
   "source": [
    "### Тюнинг модели многослойного персептрона(производился ниже на урезанном датасете, здесь вставлены лучшие параметры)"
   ]
  },
  {
   "cell_type": "code",
   "execution_count": 7,
   "id": "b7b8e2e6",
   "metadata": {},
   "outputs": [
    {
     "name": "stdout",
     "output_type": "stream",
     "text": [
      "roc_auc_score для модели многослойного персептрона на тренировочной выборке: 0.500\n",
      "roc_auc_score для модели лмногослойного персептрона на тестовой выборке: 0.500\n"
     ]
    },
    {
     "data": {
      "text/plain": [
       "array([[519326,      0],\n",
       "       [ 15267,      0]], dtype=int64)"
      ]
     },
     "execution_count": 7,
     "metadata": {},
     "output_type": "execute_result"
    }
   ],
   "source": [
    "mlp_tuned = MLPClassifier(activation= 'tanh', alpha= 0.05,  hidden_layer_sizes= (100,), learning_rate= 'adaptive', solver= 'adam')\n",
    "mlp_tuned.fit(x_train, y_train)\n",
    "pred_train_mlp = mlp_tuned.predict(x_train)\n",
    "pred_tets_mlp = mlp_tuned.predict(x_test)\n",
    "print(f\"roc_auc_score для модели многослойного персептрона на тренировочной выборке: \"\n",
    "      f\"{roc_auc_score(y_train, pred_train_mlp):.3f}\")\n",
    "print(f\"roc_auc_score для модели лмногослойного персептрона на тестовой выборке: \"\n",
    "      f\"{roc_auc_score(y_test, pred_tets_mlp):.3f}\")\n",
    "confusion_matrix(y_test, pred_tets_mlp )"
   ]
  },
  {
   "cell_type": "markdown",
   "id": "958b956b",
   "metadata": {},
   "source": [
    "## Кросс-валидация"
   ]
  },
  {
   "cell_type": "code",
   "execution_count": 6,
   "metadata": {},
   "outputs": [],
   "source": [
    "#Модель случайного леса на всей выборке\n",
    "cv_score_rf_clf = cross_val_score(rf_clf,  x, y, cv=4, scoring='roc_auc')\n",
    "cv_score_rf_clf.mean(), cv_score_rf_clf.std()"
   ]
  },
  {
   "cell_type": "code",
   "execution_count": 8,
   "id": "9863fa62",
   "metadata": {},
   "outputs": [
    {
     "name": "stdout",
     "output_type": "stream",
     "text": [
      "[[1730655    1005]\n",
      " [  50216      98]]\n"
     ]
    }
   ],
   "source": [
    "y_pred_rf_clf = cross_val_predict(rf_clf, x, y, cv=4)\n",
    "conf_mat = confusion_matrix(y, y_pred_rf_clf)\n",
    "print(conf_mat)"
   ]
  },
  {
   "cell_type": "code",
   "execution_count": 6,
   "id": "2f11429a",
   "metadata": {},
   "outputs": [
    {
     "data": {
      "text/plain": [
       "(0.6164285565410885, 0.0012651555683117735)"
      ]
     },
     "execution_count": 6,
     "metadata": {},
     "output_type": "execute_result"
    }
   ],
   "source": [
    "#Модель случайного леса на всей выборке(после тюнинга)\n",
    "cv_score_rf_tuned = cross_val_score(rf_tuned,  x, y, cv=4, scoring='roc_auc')\n",
    "cv_score_rf_tuned.mean(), cv_score_rf_tuned.std()"
   ]
  },
  {
   "cell_type": "code",
   "execution_count": 9,
   "id": "b30a8e50",
   "metadata": {},
   "outputs": [
    {
     "name": "stdout",
     "output_type": "stream",
     "text": [
      "[[1731066     594]\n",
      " [  50245      69]]\n"
     ]
    }
   ],
   "source": [
    "y_pred_rf_tuned = cross_val_predict(rf_tuned, x, y, cv=4)\n",
    "conf_mat = confusion_matrix(y, y_pred_rf_tuned)\n",
    "print(conf_mat)"
   ]
  },
  {
   "cell_type": "code",
   "execution_count": 8,
   "id": "ac1766ca",
   "metadata": {},
   "outputs": [
    {
     "data": {
      "text/plain": [
       "(0.6818791454211383, 0.003202318725800435)"
      ]
     },
     "execution_count": 8,
     "metadata": {},
     "output_type": "execute_result"
    }
   ],
   "source": [
    "#Модель многослойного персептрона на всей выборке\n",
    "cv_score_mlp = cross_val_score(mlp,  x, y, cv=4, scoring='roc_auc')\n",
    "cv_score_mlp.mean(), cv_score_mlp.std()"
   ]
  },
  {
   "cell_type": "code",
   "execution_count": 7,
   "id": "20e8a1e9",
   "metadata": {},
   "outputs": [
    {
     "name": "stdout",
     "output_type": "stream",
     "text": [
      "[[1731651       9]\n",
      " [  50313       1]]\n"
     ]
    }
   ],
   "source": [
    "y_pred_mlp = cross_val_predict(mlp, x, y, cv=4)\n",
    "conf_mat = confusion_matrix(y, y_pred_mlp)\n",
    "print(conf_mat)"
   ]
  },
  {
   "cell_type": "code",
   "execution_count": 23,
   "id": "49c4abcd",
   "metadata": {},
   "outputs": [
    {
     "data": {
      "text/plain": [
       "(0.6711719392750874, 0.00353057532567234)"
      ]
     },
     "execution_count": 23,
     "metadata": {},
     "output_type": "execute_result"
    }
   ],
   "source": [
    "#Модель многослойного персептрона на всей выборке(после тюнинга)\n",
    "cv_score_mlp_tuned = cross_val_score(mlp_tuned,  x, y, cv=4, scoring='roc_auc')\n",
    "cv_score_mlp_tuned.mean(), cv_score_mlp_tuned.std()"
   ]
  },
  {
   "cell_type": "code",
   "execution_count": 12,
   "id": "3e64511f",
   "metadata": {},
   "outputs": [
    {
     "name": "stdout",
     "output_type": "stream",
     "text": [
      "[[1731660       0]\n",
      " [  50314       0]]\n"
     ]
    }
   ],
   "source": [
    "y_pred_mlp_tuned = cross_val_predict(mlp_tuned, x, y, cv=4)\n",
    "conf_mat = confusion_matrix(y, y_pred_mlp_tuned)\n",
    "print(conf_mat)\n"
   ]
  },
  {
   "cell_type": "code",
   "execution_count": 25,
   "id": "51e09163",
   "metadata": {},
   "outputs": [
    {
     "name": "stderr",
     "output_type": "stream",
     "text": [
      "d:\\Program files\\Lib\\site-packages\\sklearn\\linear_model\\_logistic.py:460: ConvergenceWarning: lbfgs failed to converge (status=1):\n",
      "STOP: TOTAL NO. of ITERATIONS REACHED LIMIT.\n",
      "\n",
      "Increase the number of iterations (max_iter) or scale the data as shown in:\n",
      "    https://scikit-learn.org/stable/modules/preprocessing.html\n",
      "Please also refer to the documentation for alternative solver options:\n",
      "    https://scikit-learn.org/stable/modules/linear_model.html#logistic-regression\n",
      "  n_iter_i = _check_optimize_result(\n",
      "d:\\Program files\\Lib\\site-packages\\sklearn\\linear_model\\_logistic.py:460: ConvergenceWarning: lbfgs failed to converge (status=1):\n",
      "STOP: TOTAL NO. of ITERATIONS REACHED LIMIT.\n",
      "\n",
      "Increase the number of iterations (max_iter) or scale the data as shown in:\n",
      "    https://scikit-learn.org/stable/modules/preprocessing.html\n",
      "Please also refer to the documentation for alternative solver options:\n",
      "    https://scikit-learn.org/stable/modules/linear_model.html#logistic-regression\n",
      "  n_iter_i = _check_optimize_result(\n",
      "d:\\Program files\\Lib\\site-packages\\sklearn\\linear_model\\_logistic.py:460: ConvergenceWarning: lbfgs failed to converge (status=1):\n",
      "STOP: TOTAL NO. of ITERATIONS REACHED LIMIT.\n",
      "\n",
      "Increase the number of iterations (max_iter) or scale the data as shown in:\n",
      "    https://scikit-learn.org/stable/modules/preprocessing.html\n",
      "Please also refer to the documentation for alternative solver options:\n",
      "    https://scikit-learn.org/stable/modules/linear_model.html#logistic-regression\n",
      "  n_iter_i = _check_optimize_result(\n",
      "d:\\Program files\\Lib\\site-packages\\sklearn\\linear_model\\_logistic.py:460: ConvergenceWarning: lbfgs failed to converge (status=1):\n",
      "STOP: TOTAL NO. of ITERATIONS REACHED LIMIT.\n",
      "\n",
      "Increase the number of iterations (max_iter) or scale the data as shown in:\n",
      "    https://scikit-learn.org/stable/modules/preprocessing.html\n",
      "Please also refer to the documentation for alternative solver options:\n",
      "    https://scikit-learn.org/stable/modules/linear_model.html#logistic-regression\n",
      "  n_iter_i = _check_optimize_result(\n"
     ]
    },
    {
     "data": {
      "text/plain": [
       "(0.6698550862865416, 0.0027133247521936325)"
      ]
     },
     "execution_count": 25,
     "metadata": {},
     "output_type": "execute_result"
    }
   ],
   "source": [
    "#Модель логистической регрессии на всей выборке\n",
    "cv_score_logreg = cross_val_score(logreg, x, y, cv=4, scoring='roc_auc')\n",
    "cv_score_logreg.mean(), cv_score_logreg.std()"
   ]
  },
  {
   "cell_type": "code",
   "execution_count": 26,
   "id": "9e62aa39",
   "metadata": {},
   "outputs": [
    {
     "name": "stderr",
     "output_type": "stream",
     "text": [
      "d:\\Program files\\Lib\\site-packages\\sklearn\\linear_model\\_logistic.py:460: ConvergenceWarning: lbfgs failed to converge (status=1):\n",
      "STOP: TOTAL NO. of ITERATIONS REACHED LIMIT.\n",
      "\n",
      "Increase the number of iterations (max_iter) or scale the data as shown in:\n",
      "    https://scikit-learn.org/stable/modules/preprocessing.html\n",
      "Please also refer to the documentation for alternative solver options:\n",
      "    https://scikit-learn.org/stable/modules/linear_model.html#logistic-regression\n",
      "  n_iter_i = _check_optimize_result(\n",
      "d:\\Program files\\Lib\\site-packages\\sklearn\\linear_model\\_logistic.py:460: ConvergenceWarning: lbfgs failed to converge (status=1):\n",
      "STOP: TOTAL NO. of ITERATIONS REACHED LIMIT.\n",
      "\n",
      "Increase the number of iterations (max_iter) or scale the data as shown in:\n",
      "    https://scikit-learn.org/stable/modules/preprocessing.html\n",
      "Please also refer to the documentation for alternative solver options:\n",
      "    https://scikit-learn.org/stable/modules/linear_model.html#logistic-regression\n",
      "  n_iter_i = _check_optimize_result(\n",
      "d:\\Program files\\Lib\\site-packages\\sklearn\\linear_model\\_logistic.py:460: ConvergenceWarning: lbfgs failed to converge (status=1):\n",
      "STOP: TOTAL NO. of ITERATIONS REACHED LIMIT.\n",
      "\n",
      "Increase the number of iterations (max_iter) or scale the data as shown in:\n",
      "    https://scikit-learn.org/stable/modules/preprocessing.html\n",
      "Please also refer to the documentation for alternative solver options:\n",
      "    https://scikit-learn.org/stable/modules/linear_model.html#logistic-regression\n",
      "  n_iter_i = _check_optimize_result(\n",
      "d:\\Program files\\Lib\\site-packages\\sklearn\\linear_model\\_logistic.py:460: ConvergenceWarning: lbfgs failed to converge (status=1):\n",
      "STOP: TOTAL NO. of ITERATIONS REACHED LIMIT.\n",
      "\n",
      "Increase the number of iterations (max_iter) or scale the data as shown in:\n",
      "    https://scikit-learn.org/stable/modules/preprocessing.html\n",
      "Please also refer to the documentation for alternative solver options:\n",
      "    https://scikit-learn.org/stable/modules/linear_model.html#logistic-regression\n",
      "  n_iter_i = _check_optimize_result(\n"
     ]
    },
    {
     "name": "stdout",
     "output_type": "stream",
     "text": [
      "[[1731660       0]\n",
      " [  50314       0]]\n"
     ]
    }
   ],
   "source": [
    "y_pred_logreg = cross_val_predict(logreg, x, y, cv=4)\n",
    "conf_mat = confusion_matrix(y, y_pred_logreg)\n",
    "print(conf_mat)"
   ]
  },
  {
   "cell_type": "code",
   "execution_count": 29,
   "id": "2cbc2e16",
   "metadata": {},
   "outputs": [
    {
     "data": {
      "text/plain": [
       "(0.6704109408025196, 0.002640291314610941)"
      ]
     },
     "execution_count": 29,
     "metadata": {},
     "output_type": "execute_result"
    }
   ],
   "source": [
    "#Модель логистической регрессии на всей выборке(после тюнинга)\n",
    "cv_score_logreg_tuned = cross_val_score(logreg_tuned, x, y, cv=4, scoring='roc_auc')\n",
    "cv_score_logreg_tuned.mean(), cv_score_logreg_tuned.std()"
   ]
  },
  {
   "cell_type": "code",
   "execution_count": 30,
   "id": "911fb136",
   "metadata": {},
   "outputs": [
    {
     "name": "stdout",
     "output_type": "stream",
     "text": [
      "[[1731660       0]\n",
      " [  50314       0]]\n"
     ]
    }
   ],
   "source": [
    "y_pred_logreg_tuned = cross_val_predict(logreg_tuned, x, y, cv=4)\n",
    "conf_mat = confusion_matrix(y, y_pred_logreg_tuned)\n",
    "print(conf_mat)"
   ]
  },
  {
   "cell_type": "markdown",
   "metadata": {},
   "source": [
    "## Вывод: \n",
    "тюнинг моделей на урезанной выборке результата не дал, лучший показатель roc_auc у MLP с дефолтными параметрами 0.6818, и эта модель предсказывает 1(целевое событитие)."
   ]
  },
  {
   "cell_type": "markdown",
   "id": "7e4ff529",
   "metadata": {},
   "source": [
    "## Тюнинг моделей"
   ]
  },
  {
   "cell_type": "code",
   "execution_count": 4,
   "id": "c16df526",
   "metadata": {},
   "outputs": [],
   "source": [
    "#Уменьшаем датасет\n",
    "df_1 = df_ml[df_ml.target == 1]\n",
    "df_0 = df_ml[df_ml.target == 0]\n",
    "df_0 = df_0.iloc[:50314]\n",
    "df_balanced = pd.concat([df_1, df_0], axis = 0)\n",
    "df_balanced = df_balanced.sample(frac=1).reset_index(drop = True)"
   ]
  },
  {
   "cell_type": "code",
   "execution_count": 5,
   "id": "5388b559",
   "metadata": {},
   "outputs": [
    {
     "data": {
      "text/plain": [
       "(100628, 175)"
      ]
     },
     "execution_count": 5,
     "metadata": {},
     "output_type": "execute_result"
    }
   ],
   "source": [
    "df_balanced.shape"
   ]
  },
  {
   "cell_type": "code",
   "execution_count": 6,
   "id": "162a8d1e",
   "metadata": {},
   "outputs": [],
   "source": [
    "x = df_balanced.drop(['target'], axis=1)# без целевой переменной\n",
    "y = df_balanced['target']# только с целевой переменной"
   ]
  },
  {
   "cell_type": "code",
   "execution_count": 7,
   "id": "5911c4be",
   "metadata": {},
   "outputs": [],
   "source": [
    "x_train, x_test, y_train, y_test = train_test_split(\n",
    "    x, y, test_size=0.3, random_state=42\n",
    ")"
   ]
  },
  {
   "cell_type": "code",
   "execution_count": 35,
   "id": "6a123908",
   "metadata": {},
   "outputs": [
    {
     "name": "stdout",
     "output_type": "stream",
     "text": [
      "0.9798281129917437\n",
      "0.6303291151380782\n"
     ]
    },
    {
     "data": {
      "text/plain": [
       "array([[9496, 5567],\n",
       "       [5593, 9533]], dtype=int64)"
      ]
     },
     "execution_count": 35,
     "metadata": {},
     "output_type": "execute_result"
    }
   ],
   "source": [
    "# cлучайный лес\n",
    "rf_clf = RandomForestClassifier()#инициализируем случайный лес\n",
    "rf_clf.fit(x_train, y_train) #обучаем модель на тренировочных данных\n",
    "predicted_train_rf = rf_clf.predict(x_train)#значения показанные моделью на тренировочной выборке\n",
    "predicted_test_rf = rf_clf.predict(x_test)#значения которые показала модель на тестовой выборке\n",
    "print(roc_auc_score(y_train, predicted_train_rf))#точность предсказаний модели на тренировочной выборке\n",
    "print(roc_auc_score(y_test, predicted_test_rf))#точность предсказаний модели на тестовой выборке\n",
    "confusion_matrix(y_test, predicted_test_rf)#Матрица Ошибок"
   ]
  },
  {
   "cell_type": "code",
   "execution_count": 37,
   "id": "286b756b",
   "metadata": {},
   "outputs": [],
   "source": [
    "param_grid = {                  \n",
    "   'n_estimators': list(range(100, 501, 100)),\n",
    "   'max_features': ['sqrt', 'log2'],\n",
    "   'min_samples_leaf': list(range(1, 10)),\n",
    "   'max_depth':[3,5,10,None] \n",
    "            \n",
    "              } #задаем параметры для тюнинга"
   ]
  },
  {
   "cell_type": "code",
   "execution_count": 38,
   "id": "09a63ea3",
   "metadata": {},
   "outputs": [],
   "source": [
    "rf_clf_gs = RandomForestClassifier()"
   ]
  },
  {
   "cell_type": "code",
   "execution_count": 39,
   "id": "51762f02",
   "metadata": {},
   "outputs": [],
   "source": [
    "grid_search_rf = GridSearchCV( \n",
    "   estimator=rf_clf_gs,\n",
    "   param_grid=param_grid,\n",
    "   scoring='roc_auc',\n",
    "   verbose=1,\n",
    "   n_jobs=-1\n",
    ")"
   ]
  },
  {
   "cell_type": "code",
   "execution_count": 40,
   "id": "7116f913",
   "metadata": {},
   "outputs": [
    {
     "name": "stdout",
     "output_type": "stream",
     "text": [
      "Fitting 5 folds for each of 360 candidates, totalling 1800 fits\n"
     ]
    },
    {
     "data": {
      "text/html": [
       "<style>#sk-container-id-4 {color: black;}#sk-container-id-4 pre{padding: 0;}#sk-container-id-4 div.sk-toggleable {background-color: white;}#sk-container-id-4 label.sk-toggleable__label {cursor: pointer;display: block;width: 100%;margin-bottom: 0;padding: 0.3em;box-sizing: border-box;text-align: center;}#sk-container-id-4 label.sk-toggleable__label-arrow:before {content: \"▸\";float: left;margin-right: 0.25em;color: #696969;}#sk-container-id-4 label.sk-toggleable__label-arrow:hover:before {color: black;}#sk-container-id-4 div.sk-estimator:hover label.sk-toggleable__label-arrow:before {color: black;}#sk-container-id-4 div.sk-toggleable__content {max-height: 0;max-width: 0;overflow: hidden;text-align: left;background-color: #f0f8ff;}#sk-container-id-4 div.sk-toggleable__content pre {margin: 0.2em;color: black;border-radius: 0.25em;background-color: #f0f8ff;}#sk-container-id-4 input.sk-toggleable__control:checked~div.sk-toggleable__content {max-height: 200px;max-width: 100%;overflow: auto;}#sk-container-id-4 input.sk-toggleable__control:checked~label.sk-toggleable__label-arrow:before {content: \"▾\";}#sk-container-id-4 div.sk-estimator input.sk-toggleable__control:checked~label.sk-toggleable__label {background-color: #d4ebff;}#sk-container-id-4 div.sk-label input.sk-toggleable__control:checked~label.sk-toggleable__label {background-color: #d4ebff;}#sk-container-id-4 input.sk-hidden--visually {border: 0;clip: rect(1px 1px 1px 1px);clip: rect(1px, 1px, 1px, 1px);height: 1px;margin: -1px;overflow: hidden;padding: 0;position: absolute;width: 1px;}#sk-container-id-4 div.sk-estimator {font-family: monospace;background-color: #f0f8ff;border: 1px dotted black;border-radius: 0.25em;box-sizing: border-box;margin-bottom: 0.5em;}#sk-container-id-4 div.sk-estimator:hover {background-color: #d4ebff;}#sk-container-id-4 div.sk-parallel-item::after {content: \"\";width: 100%;border-bottom: 1px solid gray;flex-grow: 1;}#sk-container-id-4 div.sk-label:hover label.sk-toggleable__label {background-color: #d4ebff;}#sk-container-id-4 div.sk-serial::before {content: \"\";position: absolute;border-left: 1px solid gray;box-sizing: border-box;top: 0;bottom: 0;left: 50%;z-index: 0;}#sk-container-id-4 div.sk-serial {display: flex;flex-direction: column;align-items: center;background-color: white;padding-right: 0.2em;padding-left: 0.2em;position: relative;}#sk-container-id-4 div.sk-item {position: relative;z-index: 1;}#sk-container-id-4 div.sk-parallel {display: flex;align-items: stretch;justify-content: center;background-color: white;position: relative;}#sk-container-id-4 div.sk-item::before, #sk-container-id-4 div.sk-parallel-item::before {content: \"\";position: absolute;border-left: 1px solid gray;box-sizing: border-box;top: 0;bottom: 0;left: 50%;z-index: -1;}#sk-container-id-4 div.sk-parallel-item {display: flex;flex-direction: column;z-index: 1;position: relative;background-color: white;}#sk-container-id-4 div.sk-parallel-item:first-child::after {align-self: flex-end;width: 50%;}#sk-container-id-4 div.sk-parallel-item:last-child::after {align-self: flex-start;width: 50%;}#sk-container-id-4 div.sk-parallel-item:only-child::after {width: 0;}#sk-container-id-4 div.sk-dashed-wrapped {border: 1px dashed gray;margin: 0 0.4em 0.5em 0.4em;box-sizing: border-box;padding-bottom: 0.4em;background-color: white;}#sk-container-id-4 div.sk-label label {font-family: monospace;font-weight: bold;display: inline-block;line-height: 1.2em;}#sk-container-id-4 div.sk-label-container {text-align: center;}#sk-container-id-4 div.sk-container {/* jupyter's `normalize.less` sets `[hidden] { display: none; }` but bootstrap.min.css set `[hidden] { display: none !important; }` so we also need the `!important` here to be able to override the default hidden behavior on the sphinx rendered scikit-learn.org. See: https://github.com/scikit-learn/scikit-learn/issues/21755 */display: inline-block !important;position: relative;}#sk-container-id-4 div.sk-text-repr-fallback {display: none;}</style><div id=\"sk-container-id-4\" class=\"sk-top-container\"><div class=\"sk-text-repr-fallback\"><pre>GridSearchCV(estimator=RandomForestClassifier(), n_jobs=-1,\n",
       "             param_grid={&#x27;max_depth&#x27;: [3, 5, 10, None],\n",
       "                         &#x27;max_features&#x27;: [&#x27;sqrt&#x27;, &#x27;log2&#x27;],\n",
       "                         &#x27;min_samples_leaf&#x27;: [1, 2, 3, 4, 5, 6, 7, 8, 9],\n",
       "                         &#x27;n_estimators&#x27;: [100, 200, 300, 400, 500]},\n",
       "             scoring=&#x27;roc_auc&#x27;, verbose=1)</pre><b>In a Jupyter environment, please rerun this cell to show the HTML representation or trust the notebook. <br />On GitHub, the HTML representation is unable to render, please try loading this page with nbviewer.org.</b></div><div class=\"sk-container\" hidden><div class=\"sk-item sk-dashed-wrapped\"><div class=\"sk-label-container\"><div class=\"sk-label sk-toggleable\"><input class=\"sk-toggleable__control sk-hidden--visually\" id=\"sk-estimator-id-4\" type=\"checkbox\" ><label for=\"sk-estimator-id-4\" class=\"sk-toggleable__label sk-toggleable__label-arrow\">GridSearchCV</label><div class=\"sk-toggleable__content\"><pre>GridSearchCV(estimator=RandomForestClassifier(), n_jobs=-1,\n",
       "             param_grid={&#x27;max_depth&#x27;: [3, 5, 10, None],\n",
       "                         &#x27;max_features&#x27;: [&#x27;sqrt&#x27;, &#x27;log2&#x27;],\n",
       "                         &#x27;min_samples_leaf&#x27;: [1, 2, 3, 4, 5, 6, 7, 8, 9],\n",
       "                         &#x27;n_estimators&#x27;: [100, 200, 300, 400, 500]},\n",
       "             scoring=&#x27;roc_auc&#x27;, verbose=1)</pre></div></div></div><div class=\"sk-parallel\"><div class=\"sk-parallel-item\"><div class=\"sk-item\"><div class=\"sk-label-container\"><div class=\"sk-label sk-toggleable\"><input class=\"sk-toggleable__control sk-hidden--visually\" id=\"sk-estimator-id-5\" type=\"checkbox\" ><label for=\"sk-estimator-id-5\" class=\"sk-toggleable__label sk-toggleable__label-arrow\">estimator: RandomForestClassifier</label><div class=\"sk-toggleable__content\"><pre>RandomForestClassifier()</pre></div></div></div><div class=\"sk-serial\"><div class=\"sk-item\"><div class=\"sk-estimator sk-toggleable\"><input class=\"sk-toggleable__control sk-hidden--visually\" id=\"sk-estimator-id-6\" type=\"checkbox\" ><label for=\"sk-estimator-id-6\" class=\"sk-toggleable__label sk-toggleable__label-arrow\">RandomForestClassifier</label><div class=\"sk-toggleable__content\"><pre>RandomForestClassifier()</pre></div></div></div></div></div></div></div></div></div></div>"
      ],
      "text/plain": [
       "GridSearchCV(estimator=RandomForestClassifier(), n_jobs=-1,\n",
       "             param_grid={'max_depth': [3, 5, 10, None],\n",
       "                         'max_features': ['sqrt', 'log2'],\n",
       "                         'min_samples_leaf': [1, 2, 3, 4, 5, 6, 7, 8, 9],\n",
       "                         'n_estimators': [100, 200, 300, 400, 500]},\n",
       "             scoring='roc_auc', verbose=1)"
      ]
     },
     "execution_count": 40,
     "metadata": {},
     "output_type": "execute_result"
    }
   ],
   "source": [
    "grid_search_rf.fit(x_train, y_train)"
   ]
  },
  {
   "cell_type": "code",
   "execution_count": 41,
   "id": "193e4159",
   "metadata": {},
   "outputs": [
    {
     "data": {
      "text/plain": [
       "{'max_depth': None,\n",
       " 'max_features': 'sqrt',\n",
       " 'min_samples_leaf': 3,\n",
       " 'n_estimators': 500}"
      ]
     },
     "execution_count": 41,
     "metadata": {},
     "output_type": "execute_result"
    }
   ],
   "source": [
    "best_params = grid_search_rf.best_params\n",
    "best_params #выводим лучшие параметры для тюнинга"
   ]
  },
  {
   "cell_type": "code",
   "execution_count": 46,
   "id": "5974d48a",
   "metadata": {},
   "outputs": [
    {
     "name": "stdout",
     "output_type": "stream",
     "text": [
      "roc_auc_score для модели случайного леса на тренировочной выборке: 0.740\n",
      "roc_auc_score для модели случайного леса на тестовой выборке: 0.646\n"
     ]
    },
    {
     "data": {
      "text/plain": [
       "array([[ 9371,  5692],\n",
       "       [ 4988, 10138]], dtype=int64)"
      ]
     },
     "execution_count": 46,
     "metadata": {},
     "output_type": "execute_result"
    }
   ],
   "source": [
    "rf_tuned = RandomForestClassifier(max_features='sqrt', min_samples_leaf=3, max_depth= None, n_estimators=500)\n",
    "rf_tuned.fit(x_train, y_train)\n",
    "predicted_train_rf_tuned = rf_tuned.predict(x_train)#значения показанные моделью на тренировочной выборке\n",
    "predicted_test_rf_tuned = rf_tuned.predict(x_test)#значения которые показала модель на тестовой выборке\n",
    "print(f\"roc_auc_score для модели случайного леса на тренировочной выборке: \"\n",
    "      f\"{roc_auc_score(y_train, predicted_train_rf_tuned):.3f}\") #точность предсказаний модели на тренировочной выборке\n",
    "print(f\"roc_auc_score для модели случайного леса на тестовой выборке: \"\n",
    "      f\"{roc_auc_score(y_test, predicted_test_rf_tuned):.3f}\") #точность предсказаний модели на тестовой выборке\n",
    "\n",
    "confusion_matrix(y_test, predicted_test_rf_tuned)#Матрица Ошибок"
   ]
  },
  {
   "cell_type": "markdown",
   "id": "efa44cd4",
   "metadata": {},
   "source": [
    "### Тюнинг модели логистической регрессии"
   ]
  },
  {
   "cell_type": "code",
   "execution_count": 48,
   "id": "c9e97f55",
   "metadata": {},
   "outputs": [
    {
     "name": "stdout",
     "output_type": "stream",
     "text": [
      "0.6226589036063228\n",
      "0.6272096043635111\n"
     ]
    },
    {
     "name": "stderr",
     "output_type": "stream",
     "text": [
      "d:\\Program files\\Lib\\site-packages\\sklearn\\linear_model\\_logistic.py:460: ConvergenceWarning: lbfgs failed to converge (status=1):\n",
      "STOP: TOTAL NO. of ITERATIONS REACHED LIMIT.\n",
      "\n",
      "Increase the number of iterations (max_iter) or scale the data as shown in:\n",
      "    https://scikit-learn.org/stable/modules/preprocessing.html\n",
      "Please also refer to the documentation for alternative solver options:\n",
      "    https://scikit-learn.org/stable/modules/linear_model.html#logistic-regression\n",
      "  n_iter_i = _check_optimize_result(\n"
     ]
    },
    {
     "data": {
      "text/plain": [
       "array([[ 8929,  6134],\n",
       "       [ 5118, 10008]], dtype=int64)"
      ]
     },
     "execution_count": 48,
     "metadata": {},
     "output_type": "execute_result"
    }
   ],
   "source": [
    "logreg = LogisticRegression()#объявляем модель с дефолтными параметрами\n",
    "logreg.fit(x_train, y_train)#обучаем модель на тренировочной выборке\n",
    "predicted_train_lr = logreg.predict(x_train)#значения показанные моделью на тренировочной выборке\n",
    "predicted_test_lr = logreg.predict(x_test)#значения которые показала модель на тестовой выборке\n",
    "print(roc_auc_score(y_train, predicted_train_lr))#точность предсказаний модели на тренировочной выборке\n",
    "print(roc_auc_score(y_test, predicted_test_lr))#точность предсказаний модели на тестовой выборке\n",
    "confusion_matrix(y_test, predicted_test_lr)#Матрица Ошибок"
   ]
  },
  {
   "cell_type": "code",
   "execution_count": 51,
   "id": "20652e72",
   "metadata": {},
   "outputs": [
    {
     "data": {
      "text/plain": [
       "{'C': 1.0,\n",
       " 'class_weight': None,\n",
       " 'dual': False,\n",
       " 'fit_intercept': True,\n",
       " 'intercept_scaling': 1,\n",
       " 'l1_ratio': None,\n",
       " 'max_iter': 100,\n",
       " 'multi_class': 'auto',\n",
       " 'n_jobs': None,\n",
       " 'penalty': 'l2',\n",
       " 'random_state': None,\n",
       " 'solver': 'lbfgs',\n",
       " 'tol': 0.0001,\n",
       " 'verbose': 0,\n",
       " 'warm_start': False}"
      ]
     },
     "execution_count": 51,
     "metadata": {},
     "output_type": "execute_result"
    }
   ],
   "source": [
    "logreg.get_params()"
   ]
  },
  {
   "cell_type": "code",
   "execution_count": 9,
   "id": "61e307df",
   "metadata": {},
   "outputs": [],
   "source": [
    "param_grid = {                  \n",
    "   'solver': ['newton-cg', 'lbfgs', 'liblinear', 'sag', 'saga'],\n",
    "              'penalty':['none', 'elasticnet', 'l1', 'l2'],\n",
    "              'C':[0.001, 0.01, 0.1, 1, 10, 100]\n",
    "            \n",
    "              } #задаем параметры для тюнинга"
   ]
  },
  {
   "cell_type": "code",
   "execution_count": 10,
   "id": "71ca64b8",
   "metadata": {},
   "outputs": [],
   "source": [
    "log_reg_gs = LogisticRegression()"
   ]
  },
  {
   "cell_type": "code",
   "execution_count": 11,
   "id": "fa9667b6",
   "metadata": {},
   "outputs": [],
   "source": [
    "grid_search_log_reg = GridSearchCV( \n",
    "   estimator=log_reg_gs,\n",
    "   param_grid=param_grid,\n",
    "   scoring='roc_auc',\n",
    "   verbose=1,\n",
    "   n_jobs=-1\n",
    ")\n",
    "\n",
    "  "
   ]
  },
  {
   "cell_type": "code",
   "execution_count": null,
   "id": "b25c09e0",
   "metadata": {},
   "outputs": [],
   "source": [
    "grid_search_log_reg.fit(x_train, y_train)"
   ]
  },
  {
   "cell_type": "code",
   "execution_count": 14,
   "id": "cf6fabf6",
   "metadata": {},
   "outputs": [
    {
     "data": {
      "text/plain": [
       "{'C': 1, 'penalty': 'l1', 'solver': 'liblinear'}"
      ]
     },
     "execution_count": 14,
     "metadata": {},
     "output_type": "execute_result"
    }
   ],
   "source": [
    "\n",
    "best_params = grid_search_log_reg.best_params_\n",
    "best_params #выводим лучшие параметры для тюнинга"
   ]
  },
  {
   "cell_type": "code",
   "execution_count": 15,
   "id": "67dc09ec",
   "metadata": {},
   "outputs": [
    {
     "name": "stdout",
     "output_type": "stream",
     "text": [
      "0.6240996339017557\n",
      "0.6243752677254707\n"
     ]
    },
    {
     "data": {
      "text/plain": [
       "array([[8904, 6414],\n",
       "       [4945, 9926]], dtype=int64)"
      ]
     },
     "execution_count": 15,
     "metadata": {},
     "output_type": "execute_result"
    }
   ],
   "source": [
    "logreg_tuned = LogisticRegression(C= 1, penalty= 'l1', solver= 'liblinear')#объявляем модель с дефолтными параметрами\n",
    "logreg_tuned.fit(x_train, y_train)#обучаем модель на тренировочной выборке\n",
    "predicted_train_lr = logreg_tuned.predict(x_train)#значения показанные моделью на тренировочной выборке\n",
    "predicted_test_lr = logreg_tuned.predict(x_test)#значения которые показала модель на тестовой выборке\n",
    "print(roc_auc_score(y_train, predicted_train_lr))#точность предсказаний модели на тренировочной выборке\n",
    "print(roc_auc_score(y_test, predicted_test_lr))#точность предсказаний модели на тестовой выборке\n",
    "confusion_matrix(y_test, predicted_test_lr)#Матрица Ошибок"
   ]
  },
  {
   "cell_type": "markdown",
   "id": "959b5966",
   "metadata": {},
   "source": [
    "### Тюнинг модели многослойного персептрона"
   ]
  },
  {
   "cell_type": "code",
   "execution_count": 49,
   "id": "f3968308",
   "metadata": {},
   "outputs": [
    {
     "name": "stdout",
     "output_type": "stream",
     "text": [
      "roc_auc_score для модели многослойного персептрона на тренировочной выборке: 0.706\n",
      "roc_auc_score для модели лмногослойного персептрона на тестовой выборке: 0.618\n"
     ]
    },
    {
     "name": "stderr",
     "output_type": "stream",
     "text": [
      "d:\\Program files\\Lib\\site-packages\\sklearn\\neural_network\\_multilayer_perceptron.py:691: ConvergenceWarning: Stochastic Optimizer: Maximum iterations (200) reached and the optimization hasn't converged yet.\n",
      "  warnings.warn(\n"
     ]
    },
    {
     "data": {
      "text/plain": [
       "array([[9325, 5738],\n",
       "       [5797, 9329]], dtype=int64)"
      ]
     },
     "execution_count": 49,
     "metadata": {},
     "output_type": "execute_result"
    }
   ],
   "source": [
    "mlp = MLPClassifier()\n",
    "mlp.fit(x_train, y_train)\n",
    "pred_train_mlp = mlp.predict(x_train)\n",
    "pred_tets_mlp = mlp.predict(x_test)\n",
    "print(f\"roc_auc_score для модели многослойного персептрона на тренировочной выборке: \"\n",
    "      f\"{roc_auc_score(y_train, pred_train_mlp):.3f}\")\n",
    "print(f\"roc_auc_score для модели лмногослойного персептрона на тестовой выборке: \"\n",
    "      f\"{roc_auc_score(y_test, pred_tets_mlp):.3f}\")\n",
    "confusion_matrix(y_test, pred_tets_mlp )"
   ]
  },
  {
   "cell_type": "code",
   "execution_count": 16,
   "id": "dab55fe6",
   "metadata": {},
   "outputs": [],
   "source": [
    "param_grid ={\n",
    "    'hidden_layer_sizes': [(50,50,50), (50,100,50), (100,)],\n",
    "    'activation': ['tanh', 'relu'],\n",
    "    'solver': ['sgd', 'adam'],\n",
    "    'alpha': [0.0001, 0.05],\n",
    "    'learning_rate': ['constant','adaptive'],\n",
    "}"
   ]
  },
  {
   "cell_type": "code",
   "execution_count": 17,
   "id": "234da977",
   "metadata": {},
   "outputs": [],
   "source": [
    "mlp = MLPClassifier()"
   ]
  },
  {
   "cell_type": "code",
   "execution_count": 18,
   "id": "b0709b2d",
   "metadata": {},
   "outputs": [],
   "source": [
    "grid_search_mlp = GridSearchCV( \n",
    "   estimator=mlp,\n",
    "   param_grid=param_grid,\n",
    "   scoring='roc_auc',\n",
    "   verbose=1,\n",
    "   n_jobs=-1\n",
    ")"
   ]
  },
  {
   "cell_type": "code",
   "execution_count": null,
   "id": "8fc18fd1",
   "metadata": {},
   "outputs": [],
   "source": [
    "grid_search_mlp.fit(x_train, y_train)"
   ]
  },
  {
   "cell_type": "code",
   "execution_count": 20,
   "id": "faa63749",
   "metadata": {},
   "outputs": [
    {
     "data": {
      "text/plain": [
       "{'activation': 'tanh',\n",
       " 'alpha': 0.05,\n",
       " 'hidden_layer_sizes': (100,),\n",
       " 'learning_rate': 'adaptive',\n",
       " 'solver': 'adam'}"
      ]
     },
     "execution_count": 20,
     "metadata": {},
     "output_type": "execute_result"
    }
   ],
   "source": [
    "\n",
    "best_params = grid_search_mlp.best_params_\n",
    "best_params #выводим лучшие параметры для тюнинга"
   ]
  },
  {
   "cell_type": "code",
   "execution_count": 21,
   "id": "11750d80",
   "metadata": {},
   "outputs": [
    {
     "name": "stdout",
     "output_type": "stream",
     "text": [
      "roc_auc_score для модели многослойного персептрона на тренировочной выборке: 0.647\n",
      "roc_auc_score для модели лмногослойного персептрона на тестовой выборке: 0.632\n"
     ]
    },
    {
     "data": {
      "text/plain": [
       "array([[ 9023,  6295],\n",
       "       [ 4825, 10046]], dtype=int64)"
      ]
     },
     "execution_count": 21,
     "metadata": {},
     "output_type": "execute_result"
    }
   ],
   "source": [
    "mlp_tuned = MLPClassifier(activation= 'tanh', alpha= 0.05,  hidden_layer_sizes= (100,), learning_rate= 'adaptive', solver= 'adam')\n",
    "mlp_tuned.fit(x_train, y_train)\n",
    "pred_train_mlp = mlp_tuned.predict(x_train)\n",
    "pred_tets_mlp = mlp_tuned.predict(x_test)\n",
    "print(f\"roc_auc_score для модели многослойного персептрона на тренировочной выборке: \"\n",
    "      f\"{roc_auc_score(y_train, pred_train_mlp):.3f}\")\n",
    "print(f\"roc_auc_score для модели лмногослойного персептрона на тестовой выборке: \"\n",
    "      f\"{roc_auc_score(y_test, pred_tets_mlp):.3f}\")\n",
    "confusion_matrix(y_test, pred_tets_mlp )"
   ]
  }
 ],
 "metadata": {
  "kernelspec": {
   "display_name": "Python 3",
   "language": "python",
   "name": "python3"
  },
  "language_info": {
   "codemirror_mode": {
    "name": "ipython",
    "version": 3
   },
   "file_extension": ".py",
   "mimetype": "text/x-python",
   "name": "python",
   "nbconvert_exporter": "python",
   "pygments_lexer": "ipython3",
   "version": "3.11.5"
  }
 },
 "nbformat": 4,
 "nbformat_minor": 5
}
