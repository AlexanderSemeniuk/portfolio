{
 "cells": [
  {
   "cell_type": "markdown",
   "metadata": {},
   "source": [
    "\n",
    "Что нужно сделать\n",
    "\n",
    "Чтобы решить аналитическую задачу, недостаточно сформировать витрину данных из разрозненных файлов. Вам предстоит проанализировать таблицу, которую вы составили в предыдущем блоке, и определить, насколько она пригодна для работы.\n",
    "\n",
    "Данные, с которыми вы работали в предыдущем модуле, поступили вам напрямую от заказчика. В них могут быть пропуски и ошибки в названиях элементов колонок. Постарайтесь найти и исправить все некорректные строки. Учтите, что просто удалить строки с пропусками недостаточно.\n",
    "Клиент уточнил, что данные, поступившие от канала «Другое», его не интересуют. Посмотрите, сколько строк с таким значением в вашей таблице. Если вы всё сделали верно, в таблице таких строк не окажется. Почему?\n",
    "Посчитайте, сколько уникальных пользователей пришло по каждому рекламному каналу в разрезе этапов воронки продаж. Посмотрите на результаты и подумайте, не кажутся ли они вам странными. Не забывайте о последовательности этапов и логике в воронке продаж.\n",
    "Вы разобрались с ошибками, теперь стоит проанализировать данные на фальсификацию. Клиент считает, что данные некоторых этапов воронки продаж могли быть сфальсифицированы «накликиванием». Это значит, что по рекламным ссылкам переходили специальные боты, а не живые люди. Постарайтесь проверить, так ли это, и удалить строки с фродовыми данными. Для этого проанализируйте, сколько действий в один момент времени совершает пользователь.\n",
    "Постройте гистограмму числа действий, совершаемых пользователями в один момент времени. Вручную установите количество бинов для достоверного анализа.\n",
    "Посчитайте процент фродовых пользователей от общего числа. Сохраните фродовые данные в отдельную таблицу, она потребуется в одном из следующих заданий."
   ]
  },
  {
   "cell_type": "code",
   "execution_count": 1,
   "metadata": {},
   "outputs": [],
   "source": [
    "import pandas as pd\n",
    "import numpy as np"
   ]
  },
  {
   "cell_type": "code",
   "execution_count": 6,
   "metadata": {},
   "outputs": [
    {
     "data": {
      "text/html": [
       "<div>\n",
       "<style scoped>\n",
       "    .dataframe tbody tr th:only-of-type {\n",
       "        vertical-align: middle;\n",
       "    }\n",
       "\n",
       "    .dataframe tbody tr th {\n",
       "        vertical-align: top;\n",
       "    }\n",
       "\n",
       "    .dataframe thead th {\n",
       "        text-align: right;\n",
       "    }\n",
       "</style>\n",
       "<table border=\"1\" class=\"dataframe\">\n",
       "  <thead>\n",
       "    <tr style=\"text-align: right;\">\n",
       "      <th></th>\n",
       "      <th>user_id</th>\n",
       "      <th>funnel_stage</th>\n",
       "      <th>timestamp</th>\n",
       "      <th>profit</th>\n",
       "      <th>os</th>\n",
       "      <th>ad_channel</th>\n",
       "      <th>price</th>\n",
       "    </tr>\n",
       "  </thead>\n",
       "  <tbody>\n",
       "    <tr>\n",
       "      <th>0</th>\n",
       "      <td>666743</td>\n",
       "      <td>interest</td>\n",
       "      <td>150000</td>\n",
       "      <td>NaN</td>\n",
       "      <td>Android</td>\n",
       "      <td>banner</td>\n",
       "      <td>0.5</td>\n",
       "    </tr>\n",
       "    <tr>\n",
       "      <th>1</th>\n",
       "      <td>47061</td>\n",
       "      <td>interest</td>\n",
       "      <td>150000</td>\n",
       "      <td>NaN</td>\n",
       "      <td>Android</td>\n",
       "      <td>banner</td>\n",
       "      <td>0.5</td>\n",
       "    </tr>\n",
       "    <tr>\n",
       "      <th>2</th>\n",
       "      <td>587720</td>\n",
       "      <td>interest</td>\n",
       "      <td>150000</td>\n",
       "      <td>NaN</td>\n",
       "      <td>Android</td>\n",
       "      <td>banner</td>\n",
       "      <td>0.5</td>\n",
       "    </tr>\n",
       "    <tr>\n",
       "      <th>3</th>\n",
       "      <td>991300</td>\n",
       "      <td>intent</td>\n",
       "      <td>150001</td>\n",
       "      <td>NaN</td>\n",
       "      <td>iOS</td>\n",
       "      <td>banner</td>\n",
       "      <td>0.5</td>\n",
       "    </tr>\n",
       "    <tr>\n",
       "      <th>4</th>\n",
       "      <td>289020</td>\n",
       "      <td>interest</td>\n",
       "      <td>150001</td>\n",
       "      <td>NaN</td>\n",
       "      <td>Android</td>\n",
       "      <td>banner</td>\n",
       "      <td>0.5</td>\n",
       "    </tr>\n",
       "  </tbody>\n",
       "</table>\n",
       "</div>"
      ],
      "text/plain": [
       "   user_id funnel_stage  timestamp  profit       os ad_channel  price\n",
       "0   666743     interest     150000     NaN  Android     banner    0.5\n",
       "1    47061     interest     150000     NaN  Android     banner    0.5\n",
       "2   587720     interest     150000     NaN  Android     banner    0.5\n",
       "3   991300       intent     150001     NaN      iOS     banner    0.5\n",
       "4   289020     interest     150001     NaN  Android     banner    0.5"
      ]
     },
     "execution_count": 6,
     "metadata": {},
     "output_type": "execute_result"
    }
   ],
   "source": [
    "my_df = pd.read_excel('result_df.xlsx')\n",
    "my_df.head(5)"
   ]
  },
  {
   "cell_type": "code",
   "execution_count": 7,
   "metadata": {},
   "outputs": [
    {
     "name": "stdout",
     "output_type": "stream",
     "text": [
      "<class 'pandas.core.frame.DataFrame'>\n",
      "RangeIndex: 600889 entries, 0 to 600888\n",
      "Data columns (total 7 columns):\n",
      " #   Column        Non-Null Count   Dtype  \n",
      "---  ------        --------------   -----  \n",
      " 0   user_id       600889 non-null  int64  \n",
      " 1   funnel_stage  600889 non-null  object \n",
      " 2   timestamp     600889 non-null  int64  \n",
      " 3   profit        1789 non-null    float64\n",
      " 4   os            600889 non-null  object \n",
      " 5   ad_channel    600889 non-null  object \n",
      " 6   price         595546 non-null  float64\n",
      "dtypes: float64(2), int64(2), object(3)\n",
      "memory usage: 32.1+ MB\n"
     ]
    }
   ],
   "source": [
    "my_df.info()"
   ]
  },
  {
   "cell_type": "code",
   "execution_count": 8,
   "metadata": {},
   "outputs": [
    {
     "data": {
      "text/plain": [
       "(595546, 7)"
      ]
     },
     "execution_count": 8,
     "metadata": {},
     "output_type": "execute_result"
    }
   ],
   "source": [
    "new_df = my_df[my_df.ad_channel != 'other']\n",
    "new_df.shape"
   ]
  },
  {
   "cell_type": "code",
   "execution_count": 9,
   "metadata": {},
   "outputs": [
    {
     "name": "stderr",
     "output_type": "stream",
     "text": [
      "C:\\Users\\semen\\AppData\\Local\\Temp\\ipykernel_8396\\3518473730.py:1: SettingWithCopyWarning: \n",
      "A value is trying to be set on a copy of a slice from a DataFrame.\n",
      "Try using .loc[row_indexer,col_indexer] = value instead\n",
      "\n",
      "See the caveats in the documentation: https://pandas.pydata.org/pandas-docs/stable/user_guide/indexing.html#returning-a-view-versus-a-copy\n",
      "  new_df.profit = new_df.profit.fillna(value=0)\n"
     ]
    }
   ],
   "source": [
    "new_df.profit = new_df.profit.fillna(value=0)"
   ]
  },
  {
   "cell_type": "code",
   "execution_count": 10,
   "metadata": {},
   "outputs": [
    {
     "name": "stdout",
     "output_type": "stream",
     "text": [
      "<class 'pandas.core.frame.DataFrame'>\n",
      "Index: 595546 entries, 0 to 600888\n",
      "Data columns (total 7 columns):\n",
      " #   Column        Non-Null Count   Dtype  \n",
      "---  ------        --------------   -----  \n",
      " 0   user_id       595546 non-null  int64  \n",
      " 1   funnel_stage  595546 non-null  object \n",
      " 2   timestamp     595546 non-null  int64  \n",
      " 3   profit        595546 non-null  float64\n",
      " 4   os            595546 non-null  object \n",
      " 5   ad_channel    595546 non-null  object \n",
      " 6   price         595546 non-null  float64\n",
      "dtypes: float64(2), int64(2), object(3)\n",
      "memory usage: 36.3+ MB\n"
     ]
    }
   ],
   "source": [
    "new_df.info()"
   ]
  },
  {
   "cell_type": "code",
   "execution_count": 11,
   "metadata": {},
   "outputs": [
    {
     "data": {
      "text/plain": [
       "timestamp\n",
       "159868    29\n",
       "196178    28\n",
       "171025    27\n",
       "164492    27\n",
       "161779    27\n",
       "          ..\n",
       "200642     1\n",
       "200636     1\n",
       "200613     1\n",
       "200605     1\n",
       "200979     1\n",
       "Name: count, Length: 50911, dtype: int64"
      ]
     },
     "execution_count": 11,
     "metadata": {},
     "output_type": "execute_result"
    }
   ],
   "source": [
    "new_df.timestamp.value_counts()"
   ]
  },
  {
   "cell_type": "code",
   "execution_count": 12,
   "metadata": {},
   "outputs": [
    {
     "name": "stderr",
     "output_type": "stream",
     "text": [
      "C:\\Users\\semen\\AppData\\Local\\Temp\\ipykernel_8396\\1795375983.py:1: SettingWithCopyWarning: \n",
      "A value is trying to be set on a copy of a slice from a DataFrame.\n",
      "Try using .loc[row_indexer,col_indexer] = value instead\n",
      "\n",
      "See the caveats in the documentation: https://pandas.pydata.org/pandas-docs/stable/user_guide/indexing.html#returning-a-view-versus-a-copy\n",
      "  new_df['funnel_stage'] = new_df['funnel_stage'].str.lower()\n"
     ]
    }
   ],
   "source": [
    "new_df['funnel_stage'] = new_df['funnel_stage'].str.lower()"
   ]
  },
  {
   "cell_type": "code",
   "execution_count": 13,
   "metadata": {},
   "outputs": [
    {
     "data": {
      "text/plain": [
       "funnel_stage\n",
       "interest         366726\n",
       "consideration    203928\n",
       "intent            23147\n",
       "purchase           1745\n",
       "Name: count, dtype: int64"
      ]
     },
     "execution_count": 13,
     "metadata": {},
     "output_type": "execute_result"
    }
   ],
   "source": [
    "new_df.funnel_stage.value_counts()"
   ]
  },
  {
   "cell_type": "code",
   "execution_count": 14,
   "metadata": {},
   "outputs": [
    {
     "data": {
      "text/plain": [
       "ad_channel       funnel_stage \n",
       "banner           consideration    47454\n",
       "                 intent            7630\n",
       "                 interest         92002\n",
       "                 purchase           690\n",
       "native           consideration    12585\n",
       "                 intent             411\n",
       "                 interest         19382\n",
       "                 purchase            36\n",
       "organic_traffic  consideration    53618\n",
       "                 intent            9164\n",
       "                 interest         78719\n",
       "                 purchase           540\n",
       "partner_network  consideration    24737\n",
       "                 intent            4422\n",
       "                 interest         66226\n",
       "                 purchase           453\n",
       "rich             consideration     4658\n",
       "                 intent            1238\n",
       "                 interest          8921\n",
       "                 purchase            21\n",
       "video            consideration    60876\n",
       "                 intent              58\n",
       "                 interest         97964\n",
       "                 purchase             5\n",
       "Name: user_id, dtype: int64"
      ]
     },
     "execution_count": 14,
     "metadata": {},
     "output_type": "execute_result"
    }
   ],
   "source": [
    "new_df.groupby(['ad_channel', 'funnel_stage'])['user_id'].nunique()\n"
   ]
  },
  {
   "cell_type": "code",
   "execution_count": 15,
   "metadata": {},
   "outputs": [],
   "source": [
    "actions_count = new_df.groupby(['user_id', 'timestamp']).size()"
   ]
  },
  {
   "cell_type": "code",
   "execution_count": 16,
   "metadata": {},
   "outputs": [
    {
     "data": {
      "text/plain": [
       "user_id  timestamp\n",
       "4        183254       2\n",
       "5        153069       1\n",
       "         153692       1\n",
       "7        155779       1\n",
       "8        175997       1\n",
       "                     ..\n",
       "1064741  193546       1\n",
       "         194117       1\n",
       "1064742  176049       1\n",
       "1064747  182206       1\n",
       "         182961       1\n",
       "Length: 591809, dtype: int64"
      ]
     },
     "execution_count": 16,
     "metadata": {},
     "output_type": "execute_result"
    }
   ],
   "source": [
    "actions_count"
   ]
  },
  {
   "cell_type": "code",
   "execution_count": 17,
   "metadata": {},
   "outputs": [],
   "source": [
    "df_5= actions_count.reset_index(name='count')"
   ]
  },
  {
   "cell_type": "code",
   "execution_count": 18,
   "metadata": {},
   "outputs": [
    {
     "data": {
      "text/html": [
       "<div>\n",
       "<style scoped>\n",
       "    .dataframe tbody tr th:only-of-type {\n",
       "        vertical-align: middle;\n",
       "    }\n",
       "\n",
       "    .dataframe tbody tr th {\n",
       "        vertical-align: top;\n",
       "    }\n",
       "\n",
       "    .dataframe thead th {\n",
       "        text-align: right;\n",
       "    }\n",
       "</style>\n",
       "<table border=\"1\" class=\"dataframe\">\n",
       "  <thead>\n",
       "    <tr style=\"text-align: right;\">\n",
       "      <th></th>\n",
       "      <th>user_id</th>\n",
       "      <th>timestamp</th>\n",
       "      <th>count</th>\n",
       "    </tr>\n",
       "  </thead>\n",
       "  <tbody>\n",
       "    <tr>\n",
       "      <th>0</th>\n",
       "      <td>4</td>\n",
       "      <td>183254</td>\n",
       "      <td>2</td>\n",
       "    </tr>\n",
       "    <tr>\n",
       "      <th>1</th>\n",
       "      <td>5</td>\n",
       "      <td>153069</td>\n",
       "      <td>1</td>\n",
       "    </tr>\n",
       "    <tr>\n",
       "      <th>2</th>\n",
       "      <td>5</td>\n",
       "      <td>153692</td>\n",
       "      <td>1</td>\n",
       "    </tr>\n",
       "    <tr>\n",
       "      <th>3</th>\n",
       "      <td>7</td>\n",
       "      <td>155779</td>\n",
       "      <td>1</td>\n",
       "    </tr>\n",
       "    <tr>\n",
       "      <th>4</th>\n",
       "      <td>8</td>\n",
       "      <td>175997</td>\n",
       "      <td>1</td>\n",
       "    </tr>\n",
       "    <tr>\n",
       "      <th>...</th>\n",
       "      <td>...</td>\n",
       "      <td>...</td>\n",
       "      <td>...</td>\n",
       "    </tr>\n",
       "    <tr>\n",
       "      <th>591804</th>\n",
       "      <td>1064741</td>\n",
       "      <td>193546</td>\n",
       "      <td>1</td>\n",
       "    </tr>\n",
       "    <tr>\n",
       "      <th>591805</th>\n",
       "      <td>1064741</td>\n",
       "      <td>194117</td>\n",
       "      <td>1</td>\n",
       "    </tr>\n",
       "    <tr>\n",
       "      <th>591806</th>\n",
       "      <td>1064742</td>\n",
       "      <td>176049</td>\n",
       "      <td>1</td>\n",
       "    </tr>\n",
       "    <tr>\n",
       "      <th>591807</th>\n",
       "      <td>1064747</td>\n",
       "      <td>182206</td>\n",
       "      <td>1</td>\n",
       "    </tr>\n",
       "    <tr>\n",
       "      <th>591808</th>\n",
       "      <td>1064747</td>\n",
       "      <td>182961</td>\n",
       "      <td>1</td>\n",
       "    </tr>\n",
       "  </tbody>\n",
       "</table>\n",
       "<p>591809 rows × 3 columns</p>\n",
       "</div>"
      ],
      "text/plain": [
       "        user_id  timestamp  count\n",
       "0             4     183254      2\n",
       "1             5     153069      1\n",
       "2             5     153692      1\n",
       "3             7     155779      1\n",
       "4             8     175997      1\n",
       "...         ...        ...    ...\n",
       "591804  1064741     193546      1\n",
       "591805  1064741     194117      1\n",
       "591806  1064742     176049      1\n",
       "591807  1064747     182206      1\n",
       "591808  1064747     182961      1\n",
       "\n",
       "[591809 rows x 3 columns]"
      ]
     },
     "execution_count": 18,
     "metadata": {},
     "output_type": "execute_result"
    }
   ],
   "source": [
    "df_5"
   ]
  },
  {
   "cell_type": "code",
   "execution_count": 19,
   "metadata": {},
   "outputs": [],
   "source": [
    "df_fraud = df_5[df_5['count'] == 2]"
   ]
  },
  {
   "cell_type": "code",
   "execution_count": 22,
   "metadata": {},
   "outputs": [
    {
     "data": {
      "text/html": [
       "<div>\n",
       "<style scoped>\n",
       "    .dataframe tbody tr th:only-of-type {\n",
       "        vertical-align: middle;\n",
       "    }\n",
       "\n",
       "    .dataframe tbody tr th {\n",
       "        vertical-align: top;\n",
       "    }\n",
       "\n",
       "    .dataframe thead th {\n",
       "        text-align: right;\n",
       "    }\n",
       "</style>\n",
       "<table border=\"1\" class=\"dataframe\">\n",
       "  <thead>\n",
       "    <tr style=\"text-align: right;\">\n",
       "      <th></th>\n",
       "      <th>user_id</th>\n",
       "      <th>timestamp</th>\n",
       "      <th>count</th>\n",
       "    </tr>\n",
       "  </thead>\n",
       "  <tbody>\n",
       "    <tr>\n",
       "      <th>0</th>\n",
       "      <td>4</td>\n",
       "      <td>183254</td>\n",
       "      <td>2</td>\n",
       "    </tr>\n",
       "    <tr>\n",
       "      <th>48</th>\n",
       "      <td>73</td>\n",
       "      <td>163846</td>\n",
       "      <td>2</td>\n",
       "    </tr>\n",
       "    <tr>\n",
       "      <th>49</th>\n",
       "      <td>73</td>\n",
       "      <td>165066</td>\n",
       "      <td>2</td>\n",
       "    </tr>\n",
       "    <tr>\n",
       "      <th>355</th>\n",
       "      <td>549</td>\n",
       "      <td>195410</td>\n",
       "      <td>2</td>\n",
       "    </tr>\n",
       "    <tr>\n",
       "      <th>403</th>\n",
       "      <td>645</td>\n",
       "      <td>180672</td>\n",
       "      <td>2</td>\n",
       "    </tr>\n",
       "    <tr>\n",
       "      <th>...</th>\n",
       "      <td>...</td>\n",
       "      <td>...</td>\n",
       "      <td>...</td>\n",
       "    </tr>\n",
       "    <tr>\n",
       "      <th>591101</th>\n",
       "      <td>1063356</td>\n",
       "      <td>199811</td>\n",
       "      <td>2</td>\n",
       "    </tr>\n",
       "    <tr>\n",
       "      <th>591214</th>\n",
       "      <td>1063617</td>\n",
       "      <td>188955</td>\n",
       "      <td>2</td>\n",
       "    </tr>\n",
       "    <tr>\n",
       "      <th>591386</th>\n",
       "      <td>1063945</td>\n",
       "      <td>170866</td>\n",
       "      <td>2</td>\n",
       "    </tr>\n",
       "    <tr>\n",
       "      <th>591414</th>\n",
       "      <td>1063999</td>\n",
       "      <td>171319</td>\n",
       "      <td>2</td>\n",
       "    </tr>\n",
       "    <tr>\n",
       "      <th>591709</th>\n",
       "      <td>1064557</td>\n",
       "      <td>169187</td>\n",
       "      <td>2</td>\n",
       "    </tr>\n",
       "  </tbody>\n",
       "</table>\n",
       "<p>3737 rows × 3 columns</p>\n",
       "</div>"
      ],
      "text/plain": [
       "        user_id  timestamp  count\n",
       "0             4     183254      2\n",
       "48           73     163846      2\n",
       "49           73     165066      2\n",
       "355         549     195410      2\n",
       "403         645     180672      2\n",
       "...         ...        ...    ...\n",
       "591101  1063356     199811      2\n",
       "591214  1063617     188955      2\n",
       "591386  1063945     170866      2\n",
       "591414  1063999     171319      2\n",
       "591709  1064557     169187      2\n",
       "\n",
       "[3737 rows x 3 columns]"
      ]
     },
     "execution_count": 22,
     "metadata": {},
     "output_type": "execute_result"
    }
   ],
   "source": [
    "df_fraud"
   ]
  },
  {
   "cell_type": "code",
   "execution_count": 20,
   "metadata": {},
   "outputs": [],
   "source": [
    "result = my_df[my_df['user_id'].isin(df_fraud['user_id'])]"
   ]
  },
  {
   "cell_type": "code",
   "execution_count": 21,
   "metadata": {},
   "outputs": [
    {
     "data": {
      "text/html": [
       "<div>\n",
       "<style scoped>\n",
       "    .dataframe tbody tr th:only-of-type {\n",
       "        vertical-align: middle;\n",
       "    }\n",
       "\n",
       "    .dataframe tbody tr th {\n",
       "        vertical-align: top;\n",
       "    }\n",
       "\n",
       "    .dataframe thead th {\n",
       "        text-align: right;\n",
       "    }\n",
       "</style>\n",
       "<table border=\"1\" class=\"dataframe\">\n",
       "  <thead>\n",
       "    <tr style=\"text-align: right;\">\n",
       "      <th></th>\n",
       "      <th>user_id</th>\n",
       "      <th>funnel_stage</th>\n",
       "      <th>timestamp</th>\n",
       "      <th>profit</th>\n",
       "      <th>os</th>\n",
       "      <th>ad_channel</th>\n",
       "      <th>price</th>\n",
       "    </tr>\n",
       "  </thead>\n",
       "  <tbody>\n",
       "    <tr>\n",
       "      <th>114</th>\n",
       "      <td>389186</td>\n",
       "      <td>interest</td>\n",
       "      <td>150050</td>\n",
       "      <td>NaN</td>\n",
       "      <td>Android</td>\n",
       "      <td>banner</td>\n",
       "      <td>0.50</td>\n",
       "    </tr>\n",
       "    <tr>\n",
       "      <th>115</th>\n",
       "      <td>389186</td>\n",
       "      <td>interest</td>\n",
       "      <td>150050</td>\n",
       "      <td>NaN</td>\n",
       "      <td>iOS</td>\n",
       "      <td>banner</td>\n",
       "      <td>0.50</td>\n",
       "    </tr>\n",
       "    <tr>\n",
       "      <th>284</th>\n",
       "      <td>401967</td>\n",
       "      <td>interest</td>\n",
       "      <td>150139</td>\n",
       "      <td>NaN</td>\n",
       "      <td>iOS</td>\n",
       "      <td>banner</td>\n",
       "      <td>0.50</td>\n",
       "    </tr>\n",
       "    <tr>\n",
       "      <th>285</th>\n",
       "      <td>401967</td>\n",
       "      <td>interest</td>\n",
       "      <td>150139</td>\n",
       "      <td>NaN</td>\n",
       "      <td>Android</td>\n",
       "      <td>banner</td>\n",
       "      <td>0.50</td>\n",
       "    </tr>\n",
       "    <tr>\n",
       "      <th>293</th>\n",
       "      <td>506048</td>\n",
       "      <td>interest</td>\n",
       "      <td>150145</td>\n",
       "      <td>NaN</td>\n",
       "      <td>iOS</td>\n",
       "      <td>banner</td>\n",
       "      <td>0.50</td>\n",
       "    </tr>\n",
       "    <tr>\n",
       "      <th>...</th>\n",
       "      <td>...</td>\n",
       "      <td>...</td>\n",
       "      <td>...</td>\n",
       "      <td>...</td>\n",
       "      <td>...</td>\n",
       "      <td>...</td>\n",
       "      <td>...</td>\n",
       "    </tr>\n",
       "    <tr>\n",
       "      <th>599343</th>\n",
       "      <td>472389</td>\n",
       "      <td>interest</td>\n",
       "      <td>199701</td>\n",
       "      <td>NaN</td>\n",
       "      <td>iOS</td>\n",
       "      <td>video</td>\n",
       "      <td>0.75</td>\n",
       "    </tr>\n",
       "    <tr>\n",
       "      <th>599611</th>\n",
       "      <td>91301</td>\n",
       "      <td>interest</td>\n",
       "      <td>199788</td>\n",
       "      <td>NaN</td>\n",
       "      <td>Android</td>\n",
       "      <td>video</td>\n",
       "      <td>0.75</td>\n",
       "    </tr>\n",
       "    <tr>\n",
       "      <th>599612</th>\n",
       "      <td>91301</td>\n",
       "      <td>interest</td>\n",
       "      <td>199788</td>\n",
       "      <td>NaN</td>\n",
       "      <td>iOS</td>\n",
       "      <td>video</td>\n",
       "      <td>0.75</td>\n",
       "    </tr>\n",
       "    <tr>\n",
       "      <th>600146</th>\n",
       "      <td>95565</td>\n",
       "      <td>interest</td>\n",
       "      <td>199962</td>\n",
       "      <td>NaN</td>\n",
       "      <td>Android</td>\n",
       "      <td>video</td>\n",
       "      <td>0.75</td>\n",
       "    </tr>\n",
       "    <tr>\n",
       "      <th>600147</th>\n",
       "      <td>95565</td>\n",
       "      <td>interest</td>\n",
       "      <td>199962</td>\n",
       "      <td>NaN</td>\n",
       "      <td>iOS</td>\n",
       "      <td>video</td>\n",
       "      <td>0.75</td>\n",
       "    </tr>\n",
       "  </tbody>\n",
       "</table>\n",
       "<p>7482 rows × 7 columns</p>\n",
       "</div>"
      ],
      "text/plain": [
       "        user_id funnel_stage  timestamp  profit       os ad_channel  price\n",
       "114      389186     interest     150050     NaN  Android     banner   0.50\n",
       "115      389186     interest     150050     NaN      iOS     banner   0.50\n",
       "284      401967     interest     150139     NaN      iOS     banner   0.50\n",
       "285      401967     interest     150139     NaN  Android     banner   0.50\n",
       "293      506048     interest     150145     NaN      iOS     banner   0.50\n",
       "...         ...          ...        ...     ...      ...        ...    ...\n",
       "599343   472389     interest     199701     NaN      iOS      video   0.75\n",
       "599611    91301     interest     199788     NaN  Android      video   0.75\n",
       "599612    91301     interest     199788     NaN      iOS      video   0.75\n",
       "600146    95565     interest     199962     NaN  Android      video   0.75\n",
       "600147    95565     interest     199962     NaN      iOS      video   0.75\n",
       "\n",
       "[7482 rows x 7 columns]"
      ]
     },
     "execution_count": 21,
     "metadata": {},
     "output_type": "execute_result"
    }
   ],
   "source": [
    "result"
   ]
  },
  {
   "cell_type": "code",
   "execution_count": 76,
   "metadata": {},
   "outputs": [
    {
     "name": "stdout",
     "output_type": "stream",
     "text": [
      "(595546, 7) (3737, 3)\n"
     ]
    }
   ],
   "source": [
    "print(new_df.shape, result.shape)"
   ]
  },
  {
   "cell_type": "code",
   "execution_count": 82,
   "metadata": {},
   "outputs": [
    {
     "name": "stdout",
     "output_type": "stream",
     "text": [
      "процент фродовых пользователей = 0.963\n"
     ]
    }
   ],
   "source": [
    "print(\"процент фродовых пользователей =\", round(((df_fraud.user_id.nunique())/(new_df.user_id.nunique()) * 100), 3))"
   ]
  },
  {
   "cell_type": "code",
   "execution_count": 23,
   "metadata": {},
   "outputs": [],
   "source": [
    "result.to_excel('df_fraud.xlsx')"
   ]
  },
  {
   "cell_type": "code",
   "execution_count": null,
   "metadata": {},
   "outputs": [],
   "source": []
  }
 ],
 "metadata": {
  "kernelspec": {
   "display_name": "Python 3",
   "language": "python",
   "name": "python3"
  },
  "language_info": {
   "codemirror_mode": {
    "name": "ipython",
    "version": 3
   },
   "file_extension": ".py",
   "mimetype": "text/x-python",
   "name": "python",
   "nbconvert_exporter": "python",
   "pygments_lexer": "ipython3",
   "version": "3.11.5"
  }
 },
 "nbformat": 4,
 "nbformat_minor": 4
}
