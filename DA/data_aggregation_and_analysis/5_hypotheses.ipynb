{
  "cells": [
    {
      "cell_type": "code",
      "execution_count": 2,
      "id": "51916eec",
      "metadata": {
        "id": "51916eec"
      },
      "outputs": [],
      "source": [
        "import pandas as pd\n",
        "\n",
        "import scipy.stats as st\n",
        "\n",
        "from factor_analyzer import FactorAnalyzer\n",
        "from sklearn.preprocessing import StandardScaler"
      ]
    },
    {
      "cell_type": "code",
      "execution_count": 4,
      "id": "28f623ec",
      "metadata": {},
      "outputs": [
        {
          "data": {
            "text/html": [
              "<div>\n",
              "<style scoped>\n",
              "    .dataframe tbody tr th:only-of-type {\n",
              "        vertical-align: middle;\n",
              "    }\n",
              "\n",
              "    .dataframe tbody tr th {\n",
              "        vertical-align: top;\n",
              "    }\n",
              "\n",
              "    .dataframe thead th {\n",
              "        text-align: right;\n",
              "    }\n",
              "</style>\n",
              "<table border=\"1\" class=\"dataframe\">\n",
              "  <thead>\n",
              "    <tr style=\"text-align: right;\">\n",
              "      <th></th>\n",
              "      <th>user_id</th>\n",
              "      <th>funnel_stage</th>\n",
              "      <th>timestamp</th>\n",
              "      <th>profit</th>\n",
              "      <th>os</th>\n",
              "      <th>ad_channel</th>\n",
              "      <th>price</th>\n",
              "    </tr>\n",
              "  </thead>\n",
              "  <tbody>\n",
              "    <tr>\n",
              "      <th>0</th>\n",
              "      <td>666743</td>\n",
              "      <td>interest</td>\n",
              "      <td>150000</td>\n",
              "      <td>NaN</td>\n",
              "      <td>Android</td>\n",
              "      <td>banner</td>\n",
              "      <td>0.50</td>\n",
              "    </tr>\n",
              "    <tr>\n",
              "      <th>1563367</th>\n",
              "      <td>1035593</td>\n",
              "      <td>interest</td>\n",
              "      <td>150000</td>\n",
              "      <td>NaN</td>\n",
              "      <td>Android</td>\n",
              "      <td>partner_network</td>\n",
              "      <td>1.00</td>\n",
              "    </tr>\n",
              "    <tr>\n",
              "      <th>1563366</th>\n",
              "      <td>800792</td>\n",
              "      <td>interest</td>\n",
              "      <td>150000</td>\n",
              "      <td>NaN</td>\n",
              "      <td>Android</td>\n",
              "      <td>partner_network</td>\n",
              "      <td>1.00</td>\n",
              "    </tr>\n",
              "    <tr>\n",
              "      <th>1563365</th>\n",
              "      <td>561010</td>\n",
              "      <td>interest</td>\n",
              "      <td>150000</td>\n",
              "      <td>NaN</td>\n",
              "      <td>iOS</td>\n",
              "      <td>partner_network</td>\n",
              "      <td>1.00</td>\n",
              "    </tr>\n",
              "    <tr>\n",
              "      <th>2025238</th>\n",
              "      <td>833649</td>\n",
              "      <td>interest</td>\n",
              "      <td>150000</td>\n",
              "      <td>NaN</td>\n",
              "      <td>Android</td>\n",
              "      <td>video</td>\n",
              "      <td>0.75</td>\n",
              "    </tr>\n",
              "  </tbody>\n",
              "</table>\n",
              "</div>"
            ],
            "text/plain": [
              "         user_id funnel_stage  timestamp  profit       os       ad_channel  \\\n",
              "0         666743     interest     150000     NaN  Android           banner   \n",
              "1563367  1035593     interest     150000     NaN  Android  partner_network   \n",
              "1563366   800792     interest     150000     NaN  Android  partner_network   \n",
              "1563365   561010     interest     150000     NaN      iOS  partner_network   \n",
              "2025238   833649     interest     150000     NaN  Android            video   \n",
              "\n",
              "         price  \n",
              "0         0.50  \n",
              "1563367   1.00  \n",
              "1563366   1.00  \n",
              "1563365   1.00  \n",
              "2025238   0.75  "
            ]
          },
          "execution_count": 4,
          "metadata": {},
          "output_type": "execute_result"
        }
      ],
      "source": [
        "df = pd.read_excel('result_df.xlsx', index_col=0)\n",
        "df.head()"
      ]
    },
    {
      "cell_type": "code",
      "execution_count": 5,
      "id": "6d48df2f",
      "metadata": {},
      "outputs": [],
      "source": [
        "df['profit'] = df['profit'].fillna(0)\n",
        "df['funnel_stage'] = df['funnel_stage'].str.lower()\n",
        "df['price'] = df['price'].fillna(0)"
      ]
    },
    {
      "cell_type": "code",
      "execution_count": 16,
      "id": "15beec3a",
      "metadata": {},
      "outputs": [],
      "source": [
        "ad_traffic = df[df['price'] != 0]\n",
        "organic_traffic = df[df['price'] == 0]"
      ]
    },
    {
      "cell_type": "code",
      "execution_count": 19,
      "id": "916f097b",
      "metadata": {},
      "outputs": [
        {
          "data": {
            "text/plain": [
              "ad_channel\n",
              "organic_traffic    142863\n",
              "other                5343\n",
              "Name: count, dtype: int64"
            ]
          },
          "execution_count": 19,
          "metadata": {},
          "output_type": "execute_result"
        }
      ],
      "source": [
        "organic_traffic.ad_channel.value_counts()"
      ]
    },
    {
      "cell_type": "code",
      "execution_count": 28,
      "id": "a0835494",
      "metadata": {},
      "outputs": [
        {
          "data": {
            "text/plain": [
              "funnel_stage\n",
              "interest         369970\n",
              "consideration    205750\n",
              "intent            23380\n",
              "purchase           1789\n",
              "Name: count, dtype: int64"
            ]
          },
          "execution_count": 28,
          "metadata": {},
          "output_type": "execute_result"
        }
      ],
      "source": [
        "df.funnel_stage.value_counts()"
      ]
    },
    {
      "cell_type": "code",
      "execution_count": 29,
      "id": "454d8364",
      "metadata": {},
      "outputs": [],
      "source": [
        "interest_ad = round((len(ad_traffic[ad_traffic['funnel_stage'] == 'interest']) / len (ad_traffic) * 100), 2)\n",
        "consideration_ad = round((len(ad_traffic[ad_traffic['funnel_stage'] == 'consideration']) / len (ad_traffic) * 100), 2)\n",
        "intent_ad = round((len(ad_traffic[ad_traffic['funnel_stage'] == 'intent']) / len (ad_traffic) * 100), 2)\n",
        "purchase_ad = round((len(ad_traffic[ad_traffic['funnel_stage'] == 'purchase']) / len (ad_traffic) * 100), 2)"
      ]
    },
    {
      "cell_type": "code",
      "execution_count": 32,
      "id": "20e5dc5c",
      "metadata": {},
      "outputs": [],
      "source": [
        "interest_org = round((len(organic_traffic[organic_traffic['funnel_stage'] == 'interest']) / len (organic_traffic) * 100), 2)\n",
        "consideration_org = round((len(organic_traffic[organic_traffic['funnel_stage'] == 'consideration']) / len (organic_traffic) * 100), 2)\n",
        "intent_org = round((len(organic_traffic[organic_traffic['funnel_stage'] == 'intent']) / len (organic_traffic) * 100), 2)\n",
        "purchase_org = round((len(organic_traffic[organic_traffic['funnel_stage'] == 'purchase']) / len (organic_traffic) * 100), 2)"
      ]
    },
    {
      "cell_type": "code",
      "execution_count": 33,
      "id": "4008422c",
      "metadata": {},
      "outputs": [
        {
          "name": "stderr",
          "output_type": "stream",
          "text": [
            "C:\\Users\\semen\\AppData\\Local\\Temp\\ipykernel_5476\\2044336352.py:1: SettingWithCopyWarning: \n",
            "A value is trying to be set on a copy of a slice from a DataFrame.\n",
            "Try using .loc[row_indexer,col_indexer] = value instead\n",
            "\n",
            "See the caveats in the documentation: https://pandas.pydata.org/pandas-docs/stable/user_guide/indexing.html#returning-a-view-versus-a-copy\n",
            "  ad_traffic['ones'] = 1\n",
            "C:\\Users\\semen\\AppData\\Local\\Temp\\ipykernel_5476\\2044336352.py:2: SettingWithCopyWarning: \n",
            "A value is trying to be set on a copy of a slice from a DataFrame.\n",
            "Try using .loc[row_indexer,col_indexer] = value instead\n",
            "\n",
            "See the caveats in the documentation: https://pandas.pydata.org/pandas-docs/stable/user_guide/indexing.html#returning-a-view-versus-a-copy\n",
            "  organic_traffic['ones'] = 1\n"
          ]
        }
      ],
      "source": [
        "ad_traffic['ones'] = 1\n",
        "organic_traffic['ones'] = 1"
      ]
    },
    {
      "cell_type": "code",
      "execution_count": 36,
      "id": "186ea7cd",
      "metadata": {},
      "outputs": [
        {
          "data": {
            "text/html": [
              "<div>\n",
              "<style scoped>\n",
              "    .dataframe tbody tr th:only-of-type {\n",
              "        vertical-align: middle;\n",
              "    }\n",
              "\n",
              "    .dataframe tbody tr th {\n",
              "        vertical-align: top;\n",
              "    }\n",
              "\n",
              "    .dataframe thead th {\n",
              "        text-align: right;\n",
              "    }\n",
              "</style>\n",
              "<table border=\"1\" class=\"dataframe\">\n",
              "  <thead>\n",
              "    <tr style=\"text-align: right;\">\n",
              "      <th></th>\n",
              "      <th>ones</th>\n",
              "    </tr>\n",
              "    <tr>\n",
              "      <th>funnel_stage</th>\n",
              "      <th></th>\n",
              "    </tr>\n",
              "  </thead>\n",
              "  <tbody>\n",
              "    <tr>\n",
              "      <th>consideration</th>\n",
              "      <td>150310</td>\n",
              "    </tr>\n",
              "    <tr>\n",
              "      <th>intent</th>\n",
              "      <td>13898</td>\n",
              "    </tr>\n",
              "    <tr>\n",
              "      <th>interest</th>\n",
              "      <td>287270</td>\n",
              "    </tr>\n",
              "    <tr>\n",
              "      <th>purchase</th>\n",
              "      <td>1205</td>\n",
              "    </tr>\n",
              "  </tbody>\n",
              "</table>\n",
              "</div>"
            ],
            "text/plain": [
              "                 ones\n",
              "funnel_stage         \n",
              "consideration  150310\n",
              "intent          13898\n",
              "interest       287270\n",
              "purchase         1205"
            ]
          },
          "execution_count": 36,
          "metadata": {},
          "output_type": "execute_result"
        }
      ],
      "source": [
        "fs_ad = ad_traffic[['funnel_stage', 'ones']].groupby(by=['funnel_stage']).sum()\n",
        "fs_ad"
      ]
    },
    {
      "cell_type": "code",
      "execution_count": 43,
      "id": "265a13d3",
      "metadata": {},
      "outputs": [
        {
          "data": {
            "text/html": [
              "<div>\n",
              "<style scoped>\n",
              "    .dataframe tbody tr th:only-of-type {\n",
              "        vertical-align: middle;\n",
              "    }\n",
              "\n",
              "    .dataframe tbody tr th {\n",
              "        vertical-align: top;\n",
              "    }\n",
              "\n",
              "    .dataframe thead th {\n",
              "        text-align: right;\n",
              "    }\n",
              "</style>\n",
              "<table border=\"1\" class=\"dataframe\">\n",
              "  <thead>\n",
              "    <tr style=\"text-align: right;\">\n",
              "      <th></th>\n",
              "      <th>ones</th>\n",
              "    </tr>\n",
              "    <tr>\n",
              "      <th>funnel_stage</th>\n",
              "      <th></th>\n",
              "    </tr>\n",
              "  </thead>\n",
              "  <tbody>\n",
              "    <tr>\n",
              "      <th>consideration</th>\n",
              "      <td>55440</td>\n",
              "    </tr>\n",
              "    <tr>\n",
              "      <th>intent</th>\n",
              "      <td>9482</td>\n",
              "    </tr>\n",
              "    <tr>\n",
              "      <th>interest</th>\n",
              "      <td>82700</td>\n",
              "    </tr>\n",
              "    <tr>\n",
              "      <th>purchase</th>\n",
              "      <td>584</td>\n",
              "    </tr>\n",
              "  </tbody>\n",
              "</table>\n",
              "</div>"
            ],
            "text/plain": [
              "                ones\n",
              "funnel_stage        \n",
              "consideration  55440\n",
              "intent          9482\n",
              "interest       82700\n",
              "purchase         584"
            ]
          },
          "execution_count": 43,
          "metadata": {},
          "output_type": "execute_result"
        }
      ],
      "source": [
        "fs_org = organic_traffic[['funnel_stage', 'ones']].groupby(by=['funnel_stage']).sum()\n",
        "fs_org"
      ]
    },
    {
      "cell_type": "code",
      "execution_count": 50,
      "id": "bee618c1",
      "metadata": {},
      "outputs": [
        {
          "name": "stdout",
          "output_type": "stream",
          "text": [
            "Z-статистика (consideration): -29.597582121383795\n",
            "p-значение (consideration): 1.605253715494915e-192\n",
            "Z-статистика (intent): -57.50044689323074\n",
            "p-значение (intent): 0.0\n",
            "Z-статистика (interest): 52.61015493449799\n",
            "p-значение (interest): 0.0\n",
            "Z-статистика (purchase): -7.841361527653678\n",
            "p-значение (purchase): 4.456872268502453e-15\n"
          ]
        }
      ],
      "source": [
        "import statsmodels.api as sm\n",
        "\n",
        "# Зададим количество наблюдений для каждой группы\n",
        "n1 = 150310 + 13898 + 287270 + 1205  # Общее количество наблюдений для fs_ad\n",
        "n2 = 55440 + 9482 + 82700 + 584     # Общее количество наблюдений для fs_org\n",
        "\n",
        "# Зададим количество успехов для каждой ступени воронки для каждой группы\n",
        "# Например, для consideration:\n",
        "successes_consideration_ad = 150310\n",
        "successes_consideration_org = 55440\n",
        "\n",
        "# Проведем z-тест для разности долей для каждой ступени воронки\n",
        "z_stat_consideration, p_value_consideration = sm.stats.proportions_ztest([successes_consideration_ad, successes_consideration_org], [n1, n2], alternative='two-sided')\n",
        "\n",
        "# Продолжим аналогичным образом для других ступеней воронки (intent, interest, purchase)\n",
        "# ...\n",
        "\n",
        "# Выведем результаты\n",
        "print('Z-статистика (consideration):', z_stat_consideration)\n",
        "print('p-значение (consideration):', p_value_consideration)\n",
        "# ...\n",
        "successes_consideration_ad = 13898\n",
        "successes_consideration_org = 9482\n",
        "\n",
        "# Проведем z-тест для разности долей для каждой ступени воронки\n",
        "z_stat_intent, p_value_intent = sm.stats.proportions_ztest([successes_consideration_ad, successes_consideration_org], [n1, n2], alternative='two-sided')\n",
        "\n",
        "# Выведем результаты\n",
        "print('Z-статистика (intent):', z_stat_intent)\n",
        "print('p-значение (intent):', p_value_intent)\n",
        "\n",
        "# ...\n",
        "successes_consideration_ad = 287270\n",
        "successes_consideration_org = 82700\n",
        "\n",
        "# Проведем z-тест для разности долей для каждой ступени воронки\n",
        "z_stat_interest, p_value_interest = sm.stats.proportions_ztest([successes_consideration_ad, successes_consideration_org], [n1, n2], alternative='two-sided')\n",
        "\n",
        "# Выведем результаты\n",
        "print('Z-статистика (interest):', z_stat_interest)\n",
        "print('p-значение (interest):', p_value_interest)\n",
        "\n",
        "# ...\n",
        "successes_consideration_ad = 1205\n",
        "successes_consideration_org = 584\n",
        "\n",
        "# Проведем z-тест для разности долей для каждой ступени воронки\n",
        "z_stat_purchase, p_value_purchase = sm.stats.proportions_ztest([successes_consideration_ad, successes_consideration_org], [n1, n2], alternative='two-sided')\n",
        "\n",
        "# Выведем результаты\n",
        "print('Z-статистика (purchase):', z_stat_purchase)\n",
        "print('p-значение (purchase):', p_value_purchase)\n",
        "\n"
      ]
    },
    {
      "cell_type": "markdown",
      "id": "25fb5f48",
      "metadata": {},
      "source": [
        "Результаты z-теста для ступени \"consideration\" следующие:\n",
        "\n",
        "Z-статистика (consideration): -29.597582121383795\n",
        "\n",
        "Данное значение показывает, что существует очень большое стандартизованное различие между долями в группе fs_ad и группе fs_org на ступени \"consideration\".\n",
        "Отрицательный знак указывает на то, что доля в группе fs_org больше, чем в группе fs_ad на этой ступени.\n",
        "P-значение (consideration): 1.605253715494915e-192 (или примерно 0)\n",
        "\n",
        "P-значение очень близко к 0, что указывает на то, что вероятность получить такое или более сильное различие между группами, при условии, что нулевая гипотеза верна, крайне мала.\n",
        "Интерпретация: Учитывая полученные результаты, мы можем заключить, что на ступени \"consideration\" между группами fs_ad и fs_org существует статистически значимое различие в долях. Более того, доля в группе fs_org значительно выше, чем в группе fs_ad на данной ступени."
      ]
    },
    {
      "cell_type": "code",
      "execution_count": 37,
      "id": "fda4e49c",
      "metadata": {},
      "outputs": [
        {
          "data": {
            "text/plain": [
              "funnel_stage\n",
              "interest         0.634594\n",
              "consideration    0.332043\n",
              "intent           0.030701\n",
              "purchase         0.002662\n",
              "Name: proportion, dtype: float64"
            ]
          },
          "execution_count": 37,
          "metadata": {},
          "output_type": "execute_result"
        }
      ],
      "source": [
        "value_counts_ad_traffic = ad_traffic['funnel_stage'].value_counts(normalize=True)\n",
        "value_counts_ad_traffic"
      ]
    },
    {
      "cell_type": "code",
      "execution_count": 44,
      "id": "e4d1e29e",
      "metadata": {},
      "outputs": [
        {
          "data": {
            "text/plain": [
              "funnel_stage\n",
              "interest         0.558007\n",
              "consideration    0.374074\n",
              "intent           0.063979\n",
              "purchase         0.003940\n",
              "Name: proportion, dtype: float64"
            ]
          },
          "execution_count": 44,
          "metadata": {},
          "output_type": "execute_result"
        }
      ],
      "source": [
        "value_counts_org_traffic = organic_traffic['funnel_stage'].value_counts(normalize=True)\n",
        "value_counts_org_traffic"
      ]
    },
    {
      "cell_type": "code",
      "execution_count": 53,
      "id": "1cead491",
      "metadata": {},
      "outputs": [],
      "source": [
        "grouped_data = organic_traffic.groupby(['ad_channel', 'funnel_stage']).size().unstack()"
      ]
    },
    {
      "cell_type": "code",
      "execution_count": 54,
      "id": "cadebfc6",
      "metadata": {},
      "outputs": [
        {
          "data": {
            "text/html": [
              "<div>\n",
              "<style scoped>\n",
              "    .dataframe tbody tr th:only-of-type {\n",
              "        vertical-align: middle;\n",
              "    }\n",
              "\n",
              "    .dataframe tbody tr th {\n",
              "        vertical-align: top;\n",
              "    }\n",
              "\n",
              "    .dataframe thead th {\n",
              "        text-align: right;\n",
              "    }\n",
              "</style>\n",
              "<table border=\"1\" class=\"dataframe\">\n",
              "  <thead>\n",
              "    <tr style=\"text-align: right;\">\n",
              "      <th>funnel_stage</th>\n",
              "      <th>consideration</th>\n",
              "      <th>intent</th>\n",
              "      <th>interest</th>\n",
              "      <th>purchase</th>\n",
              "    </tr>\n",
              "    <tr>\n",
              "      <th>ad_channel</th>\n",
              "      <th></th>\n",
              "      <th></th>\n",
              "      <th></th>\n",
              "      <th></th>\n",
              "    </tr>\n",
              "  </thead>\n",
              "  <tbody>\n",
              "    <tr>\n",
              "      <th>organic_traffic</th>\n",
              "      <td>53618</td>\n",
              "      <td>9249</td>\n",
              "      <td>79456</td>\n",
              "      <td>540</td>\n",
              "    </tr>\n",
              "    <tr>\n",
              "      <th>other</th>\n",
              "      <td>1822</td>\n",
              "      <td>233</td>\n",
              "      <td>3244</td>\n",
              "      <td>44</td>\n",
              "    </tr>\n",
              "  </tbody>\n",
              "</table>\n",
              "</div>"
            ],
            "text/plain": [
              "funnel_stage     consideration  intent  interest  purchase\n",
              "ad_channel                                                \n",
              "organic_traffic          53618    9249     79456       540\n",
              "other                     1822     233      3244        44"
            ]
          },
          "execution_count": 54,
          "metadata": {},
          "output_type": "execute_result"
        }
      ],
      "source": [
        "grouped_data"
      ]
    },
    {
      "cell_type": "code",
      "execution_count": 56,
      "id": "46e45198",
      "metadata": {},
      "outputs": [
        {
          "data": {
            "image/png": "[encoded data removed]",
            "text/plain": [
              "<Figure size 1500x200 with 1 Axes>"
            ]
          },
          "metadata": {},
          "output_type": "display_data"
        },
        {
          "data": {
            "image/png": "[encoded data removed]",
            "text/plain": [
              "<Figure size 1500x200 with 1 Axes>"
            ]
          },
          "metadata": {},
          "output_type": "display_data"
        },
        {
          "data": {
            "image/png": "[encoded data removed]",
            "text/plain": [
              "<Figure size 1500x200 with 1 Axes>"
            ]
          },
          "metadata": {},
          "output_type": "display_data"
        },
        {
          "data": {
            "image/png": "[encoded data removed]",
            "text/plain": [
              "<Figure size 1500x200 with 1 Axes>"
            ]
          },
          "metadata": {},
          "output_type": "display_data"
        }
      ],
      "source": [
        "import matplotlib.pyplot as plt\n",
        "for i in grouped_data.columns:\n",
        "    ax = grouped_data[i].sort_values().plot(kind='barh', stacked=True, figsize=(15, 2))\n",
        "    \n",
        "    plt.title(i)\n",
        "    plt.xlabel('Count')\n",
        "    plt.ylabel('funnel_stage')\n",
        "    for rect in ax.patches:\n",
        "        width = rect.get_width()\n",
        "        ax.text(width, rect.get_y() + rect.get_height() / 2, f'{width:.0f}', ha='left', va='center')\n",
        "    plt.show()"
      ]
    },
    {
      "cell_type": "code",
      "execution_count": 57,
      "id": "ec4e3225",
      "metadata": {},
      "outputs": [
        {
          "data": {
            "image/png": "[encoded data removed]",
            "text/plain": [
              "<Figure size 1500x200 with 1 Axes>"
            ]
          },
          "metadata": {},
          "output_type": "display_data"
        },
        {
          "data": {
            "image/png": "[encoded data removed]",
            "text/plain": [
              "<Figure size 1500x200 with 1 Axes>"
            ]
          },
          "metadata": {},
          "output_type": "display_data"
        },
        {
          "data": {
            "image/png": "[encoded data removed]",
            "text/plain": [
              "<Figure size 1500x200 with 1 Axes>"
            ]
          },
          "metadata": {},
          "output_type": "display_data"
        },
        {
          "data": {
            "image/png": "[encoded data removed]",
            "text/plain": [
              "<Figure size 1500x200 with 1 Axes>"
            ]
          },
          "metadata": {},
          "output_type": "display_data"
        }
      ],
      "source": [
        "grouped_data = ad_traffic.groupby(['ad_channel', 'funnel_stage']).size().unstack()\n",
        "import matplotlib.pyplot as plt\n",
        "for i in grouped_data.columns:\n",
        "    ax = grouped_data[i].sort_values().plot(kind='barh', stacked=True, figsize=(15, 2))\n",
        "    \n",
        "    plt.title(i)\n",
        "    plt.xlabel('Count')\n",
        "    plt.ylabel('funnel_stage')\n",
        "    for rect in ax.patches:\n",
        "        width = rect.get_width()\n",
        "        ax.text(width, rect.get_y() + rect.get_height() / 2, f'{width:.0f}', ha='left', va='center')\n",
        "    plt.show()"
      ]
    },
    {
      "cell_type": "code",
      "execution_count": 58,
      "id": "f44052d4",
      "metadata": {},
      "outputs": [],
      "source": [
        "grouped_data = df.groupby(['funnel_stage', 'ad_channel']).size().unstack()"
      ]
    },
    {
      "cell_type": "code",
      "execution_count": 59,
      "id": "1a9d22f8",
      "metadata": {},
      "outputs": [
        {
          "data": {
            "text/html": [
              "<div>\n",
              "<style scoped>\n",
              "    .dataframe tbody tr th:only-of-type {\n",
              "        vertical-align: middle;\n",
              "    }\n",
              "\n",
              "    .dataframe tbody tr th {\n",
              "        vertical-align: top;\n",
              "    }\n",
              "\n",
              "    .dataframe thead th {\n",
              "        text-align: right;\n",
              "    }\n",
              "</style>\n",
              "<table border=\"1\" class=\"dataframe\">\n",
              "  <thead>\n",
              "    <tr style=\"text-align: right;\">\n",
              "      <th>ad_channel</th>\n",
              "      <th>banner</th>\n",
              "      <th>native</th>\n",
              "      <th>organic_traffic</th>\n",
              "      <th>other</th>\n",
              "      <th>partner_network</th>\n",
              "      <th>rich</th>\n",
              "      <th>video</th>\n",
              "    </tr>\n",
              "    <tr>\n",
              "      <th>funnel_stage</th>\n",
              "      <th></th>\n",
              "      <th></th>\n",
              "      <th></th>\n",
              "      <th></th>\n",
              "      <th></th>\n",
              "      <th></th>\n",
              "      <th></th>\n",
              "    </tr>\n",
              "  </thead>\n",
              "  <tbody>\n",
              "    <tr>\n",
              "      <th>consideration</th>\n",
              "      <td>47454</td>\n",
              "      <td>12585</td>\n",
              "      <td>53618</td>\n",
              "      <td>1822</td>\n",
              "      <td>24737</td>\n",
              "      <td>4658</td>\n",
              "      <td>60876</td>\n",
              "    </tr>\n",
              "    <tr>\n",
              "      <th>intent</th>\n",
              "      <td>7711</td>\n",
              "      <td>416</td>\n",
              "      <td>9249</td>\n",
              "      <td>233</td>\n",
              "      <td>4459</td>\n",
              "      <td>1254</td>\n",
              "      <td>58</td>\n",
              "    </tr>\n",
              "    <tr>\n",
              "      <th>interest</th>\n",
              "      <td>92948</td>\n",
              "      <td>19553</td>\n",
              "      <td>79456</td>\n",
              "      <td>3244</td>\n",
              "      <td>66844</td>\n",
              "      <td>9009</td>\n",
              "      <td>98916</td>\n",
              "    </tr>\n",
              "    <tr>\n",
              "      <th>purchase</th>\n",
              "      <td>690</td>\n",
              "      <td>36</td>\n",
              "      <td>540</td>\n",
              "      <td>44</td>\n",
              "      <td>453</td>\n",
              "      <td>21</td>\n",
              "      <td>5</td>\n",
              "    </tr>\n",
              "  </tbody>\n",
              "</table>\n",
              "</div>"
            ],
            "text/plain": [
              "ad_channel     banner  native  organic_traffic  other  partner_network  rich  \\\n",
              "funnel_stage                                                                   \n",
              "consideration   47454   12585            53618   1822            24737  4658   \n",
              "intent           7711     416             9249    233             4459  1254   \n",
              "interest        92948   19553            79456   3244            66844  9009   \n",
              "purchase          690      36              540     44              453    21   \n",
              "\n",
              "ad_channel     video  \n",
              "funnel_stage          \n",
              "consideration  60876  \n",
              "intent            58  \n",
              "interest       98916  \n",
              "purchase           5  "
            ]
          },
          "execution_count": 59,
          "metadata": {},
          "output_type": "execute_result"
        }
      ],
      "source": [
        "grouped_data"
      ]
    },
    {
      "cell_type": "code",
      "execution_count": 61,
      "id": "e21ec0ce",
      "metadata": {},
      "outputs": [
        {
          "data": {
            "image/png": "[encoded data removed]",
            "text/plain": [
              "<Figure size 1200x800 with 1 Axes>"
            ]
          },
          "metadata": {},
          "output_type": "display_data"
        }
      ],
      "source": [
        "grouped_data = df.groupby(['ad_channel', 'funnel_stage']).size().unstack()\n",
        "\n",
        "# Построение графика\n",
        "grouped_data.plot(kind='bar', stacked=True, figsize=(12, 8))\n",
        "plt.title('User OS Distribution by Ad Channel')\n",
        "plt.xlabel('Ad Channel')\n",
        "plt.ylabel('User Count')\n",
        "plt.show()"
      ]
    },
    {
      "cell_type": "code",
      "execution_count": null,
      "id": "2d2aeb93",
      "metadata": {
        "id": "2d2aeb93"
      },
      "outputs": [],
      "source": [
        "X = df.iloc[:, :-1]\n",
        "y = df['y']"
      ]
    },
    {
      "cell_type": "code",
      "execution_count": null,
      "id": "c0537fbe",
      "metadata": {
        "id": "c0537fbe"
      },
      "outputs": [],
      "source": [
        "sc = StandardScaler()"
      ]
    },
    {
      "cell_type": "code",
      "execution_count": null,
      "id": "6f172ce8",
      "metadata": {
        "id": "6f172ce8"
      },
      "outputs": [],
      "source": [
        "X_sc = sc.fit_transform(X)"
      ]
    },
    {
      "cell_type": "code",
      "execution_count": null,
      "id": "83b81b90",
      "metadata": {
        "id": "83b81b90"
      },
      "outputs": [],
      "source": [
        "fa = FactorAnalyzer(n_factors=3)"
      ]
    },
    {
      "cell_type": "code",
      "execution_count": null,
      "id": "54cf586d",
      "metadata": {
        "id": "54cf586d",
        "outputId": "9f0a579e-fa9c-48af-c93d-65b68d8be602"
      },
      "outputs": [
        {
          "data": {
            "text/plain": [
              "FactorAnalyzer(rotation_kwargs={})"
            ]
          },
          "execution_count": 159,
          "metadata": {},
          "output_type": "execute_result"
        }
      ],
      "source": [
        "fa.fit(X_sc)"
      ]
    },
    {
      "cell_type": "code",
      "execution_count": null,
      "id": "6541d110",
      "metadata": {
        "id": "6541d110"
      },
      "outputs": [],
      "source": [
        "ev, _ = fa.get_eigenvalues()"
      ]
    },
    {
      "cell_type": "code",
      "execution_count": null,
      "id": "11fa6a52",
      "metadata": {
        "id": "11fa6a52"
      },
      "outputs": [],
      "source": [
        "n_factors = (ev > 1).sum()"
      ]
    },
    {
      "cell_type": "code",
      "execution_count": null,
      "id": "e215bdaa",
      "metadata": {
        "id": "e215bdaa",
        "outputId": "99bc43ab-fcc0-496f-adb4-4f932ffbb985"
      },
      "outputs": [
        {
          "data": {
            "text/plain": [
              "17"
            ]
          },
          "execution_count": 162,
          "metadata": {},
          "output_type": "execute_result"
        }
      ],
      "source": [
        "n_factors"
      ]
    },
    {
      "cell_type": "code",
      "execution_count": null,
      "id": "f44c5508",
      "metadata": {
        "id": "f44c5508"
      },
      "outputs": [],
      "source": [
        "fa = FactorAnalyzer(n_factors=n_factors)"
      ]
    },
    {
      "cell_type": "code",
      "execution_count": null,
      "id": "db800e2b",
      "metadata": {
        "id": "db800e2b",
        "outputId": "48496535-c562-4b90-d2fd-2fb2490225ae"
      },
      "outputs": [
        {
          "data": {
            "text/plain": [
              "FactorAnalyzer(n_factors=17, rotation_kwargs={})"
            ]
          },
          "execution_count": 164,
          "metadata": {},
          "output_type": "execute_result"
        }
      ],
      "source": [
        "fa.fit(X_sc)"
      ]
    },
    {
      "cell_type": "code",
      "execution_count": null,
      "id": "ed20fe70",
      "metadata": {
        "id": "ed20fe70"
      },
      "outputs": [],
      "source": [
        "loadings = pd.DataFrame(fa.loadings_,\n",
        "                        index=X.columns,\n",
        "                        columns=['factor_{x}'.format(x=x+1) for x in range(n_factors)])"
      ]
    },
    {
      "cell_type": "code",
      "execution_count": null,
      "id": "b3c6084c",
      "metadata": {
        "id": "b3c6084c",
        "outputId": "82a31141-f683-408b-935d-4c73009a33aa"
      },
      "outputs": [
        {
          "data": {
            "text/html": [
              "<div>\n",
              "<style scoped>\n",
              "    .dataframe tbody tr th:only-of-type {\n",
              "        vertical-align: middle;\n",
              "    }\n",
              "\n",
              "    .dataframe tbody tr th {\n",
              "        vertical-align: top;\n",
              "    }\n",
              "\n",
              "    .dataframe thead th {\n",
              "        text-align: right;\n",
              "    }\n",
              "</style>\n",
              "<table border=\"1\" class=\"dataframe\">\n",
              "  <thead>\n",
              "    <tr style=\"text-align: right;\">\n",
              "      <th></th>\n",
              "      <th>factor_1</th>\n",
              "      <th>factor_2</th>\n",
              "      <th>factor_3</th>\n",
              "      <th>factor_4</th>\n",
              "      <th>factor_5</th>\n",
              "      <th>factor_6</th>\n",
              "      <th>factor_7</th>\n",
              "      <th>factor_8</th>\n",
              "      <th>factor_9</th>\n",
              "      <th>factor_10</th>\n",
              "      <th>factor_11</th>\n",
              "      <th>factor_12</th>\n",
              "      <th>factor_13</th>\n",
              "      <th>factor_14</th>\n",
              "      <th>factor_15</th>\n",
              "      <th>factor_16</th>\n",
              "      <th>factor_17</th>\n",
              "    </tr>\n",
              "  </thead>\n",
              "  <tbody>\n",
              "    <tr>\n",
              "      <th>job_retired</th>\n",
              "      <td>0.016541</td>\n",
              "      <td>0.162393</td>\n",
              "      <td>-0.024154</td>\n",
              "      <td>-0.124472</td>\n",
              "      <td>0.058293</td>\n",
              "      <td>0.773038</td>\n",
              "      <td>0.045825</td>\n",
              "      <td>0.009017</td>\n",
              "      <td>-0.023647</td>\n",
              "      <td>-0.049023</td>\n",
              "      <td>-0.049584</td>\n",
              "      <td>0.050432</td>\n",
              "      <td>-0.096352</td>\n",
              "      <td>-0.018959</td>\n",
              "      <td>0.008239</td>\n",
              "      <td>0.019716</td>\n",
              "      <td>-0.036127</td>\n",
              "    </tr>\n",
              "    <tr>\n",
              "      <th>age</th>\n",
              "      <td>0.030635</td>\n",
              "      <td>0.102646</td>\n",
              "      <td>0.322156</td>\n",
              "      <td>-0.059776</td>\n",
              "      <td>0.049801</td>\n",
              "      <td>0.717340</td>\n",
              "      <td>0.032721</td>\n",
              "      <td>0.140488</td>\n",
              "      <td>0.032296</td>\n",
              "      <td>-0.037686</td>\n",
              "      <td>0.058355</td>\n",
              "      <td>0.079771</td>\n",
              "      <td>-0.034813</td>\n",
              "      <td>-0.034017</td>\n",
              "      <td>0.024576</td>\n",
              "      <td>0.013910</td>\n",
              "      <td>-0.016087</td>\n",
              "    </tr>\n",
              "    <tr>\n",
              "      <th>education_secondary</th>\n",
              "      <td>-0.029110</td>\n",
              "      <td>0.852018</td>\n",
              "      <td>0.016972</td>\n",
              "      <td>-0.015632</td>\n",
              "      <td>-0.001636</td>\n",
              "      <td>0.211866</td>\n",
              "      <td>-0.016368</td>\n",
              "      <td>-0.031036</td>\n",
              "      <td>0.120279</td>\n",
              "      <td>0.036669</td>\n",
              "      <td>-0.181576</td>\n",
              "      <td>-0.635531</td>\n",
              "      <td>0.018053</td>\n",
              "      <td>0.015326</td>\n",
              "      <td>-0.091848</td>\n",
              "      <td>-0.008503</td>\n",
              "      <td>-0.033605</td>\n",
              "    </tr>\n",
              "    <tr>\n",
              "      <th>balance</th>\n",
              "      <td>0.010551</td>\n",
              "      <td>-0.069528</td>\n",
              "      <td>0.012786</td>\n",
              "      <td>-0.000207</td>\n",
              "      <td>0.002747</td>\n",
              "      <td>0.128649</td>\n",
              "      <td>0.011778</td>\n",
              "      <td>-0.021055</td>\n",
              "      <td>0.016554</td>\n",
              "      <td>-0.015824</td>\n",
              "      <td>-0.001120</td>\n",
              "      <td>-0.020543</td>\n",
              "      <td>0.001683</td>\n",
              "      <td>-0.019746</td>\n",
              "      <td>0.015801</td>\n",
              "      <td>0.003160</td>\n",
              "      <td>0.007933</td>\n",
              "    </tr>\n",
              "    <tr>\n",
              "      <th>job_entrepreneur</th>\n",
              "      <td>0.115043</td>\n",
              "      <td>-0.027219</td>\n",
              "      <td>-0.031267</td>\n",
              "      <td>0.099659</td>\n",
              "      <td>0.048622</td>\n",
              "      <td>0.088703</td>\n",
              "      <td>0.067013</td>\n",
              "      <td>-0.101623</td>\n",
              "      <td>0.060498</td>\n",
              "      <td>-0.041869</td>\n",
              "      <td>0.037788</td>\n",
              "      <td>0.012628</td>\n",
              "      <td>-0.025647</td>\n",
              "      <td>-0.063795</td>\n",
              "      <td>1.090346</td>\n",
              "      <td>0.021977</td>\n",
              "      <td>-0.059750</td>\n",
              "    </tr>\n",
              "    <tr>\n",
              "      <th>contact_telephone</th>\n",
              "      <td>0.044210</td>\n",
              "      <td>0.129774</td>\n",
              "      <td>-0.138560</td>\n",
              "      <td>0.120518</td>\n",
              "      <td>0.036010</td>\n",
              "      <td>0.086999</td>\n",
              "      <td>0.095717</td>\n",
              "      <td>0.096450</td>\n",
              "      <td>1.100604</td>\n",
              "      <td>-0.042960</td>\n",
              "      <td>-0.090442</td>\n",
              "      <td>-0.005959</td>\n",
              "      <td>0.075906</td>\n",
              "      <td>0.011713</td>\n",
              "      <td>0.048190</td>\n",
              "      <td>-0.026847</td>\n",
              "      <td>0.013246</td>\n",
              "    </tr>\n",
              "    <tr>\n",
              "      <th>poutcome_unknown</th>\n",
              "      <td>-0.889804</td>\n",
              "      <td>-0.002599</td>\n",
              "      <td>-0.047656</td>\n",
              "      <td>-0.216237</td>\n",
              "      <td>0.082885</td>\n",
              "      <td>0.078173</td>\n",
              "      <td>0.041428</td>\n",
              "      <td>-0.048814</td>\n",
              "      <td>-0.080611</td>\n",
              "      <td>0.023566</td>\n",
              "      <td>0.010583</td>\n",
              "      <td>0.007027</td>\n",
              "      <td>0.014930</td>\n",
              "      <td>-0.005377</td>\n",
              "      <td>-0.062724</td>\n",
              "      <td>-0.183204</td>\n",
              "      <td>-0.012258</td>\n",
              "    </tr>\n",
              "    <tr>\n",
              "      <th>job_housemaid</th>\n",
              "      <td>-0.019506</td>\n",
              "      <td>0.020340</td>\n",
              "      <td>0.011356</td>\n",
              "      <td>-0.002369</td>\n",
              "      <td>-0.016784</td>\n",
              "      <td>0.057609</td>\n",
              "      <td>-0.004055</td>\n",
              "      <td>0.006868</td>\n",
              "      <td>0.012955</td>\n",
              "      <td>0.014275</td>\n",
              "      <td>-0.008406</td>\n",
              "      <td>0.157323</td>\n",
              "      <td>-0.000486</td>\n",
              "      <td>0.014205</td>\n",
              "      <td>-0.002979</td>\n",
              "      <td>-0.007261</td>\n",
              "      <td>-0.004063</td>\n",
              "    </tr>\n",
              "    <tr>\n",
              "      <th>marital_divorced</th>\n",
              "      <td>0.079762</td>\n",
              "      <td>-0.109708</td>\n",
              "      <td>0.064068</td>\n",
              "      <td>0.092621</td>\n",
              "      <td>-0.013474</td>\n",
              "      <td>0.056882</td>\n",
              "      <td>-0.013771</td>\n",
              "      <td>1.088304</td>\n",
              "      <td>0.096207</td>\n",
              "      <td>0.011442</td>\n",
              "      <td>0.089839</td>\n",
              "      <td>-0.024504</td>\n",
              "      <td>-0.000744</td>\n",
              "      <td>-0.018681</td>\n",
              "      <td>-0.083474</td>\n",
              "      <td>0.024672</td>\n",
              "      <td>0.003274</td>\n",
              "    </tr>\n",
              "    <tr>\n",
              "      <th>poutcome_other</th>\n",
              "      <td>0.050178</td>\n",
              "      <td>0.027597</td>\n",
              "      <td>-0.015315</td>\n",
              "      <td>-0.215531</td>\n",
              "      <td>-0.021130</td>\n",
              "      <td>0.047979</td>\n",
              "      <td>0.003638</td>\n",
              "      <td>0.028963</td>\n",
              "      <td>-0.032251</td>\n",
              "      <td>-0.000191</td>\n",
              "      <td>-0.023336</td>\n",
              "      <td>-0.004770</td>\n",
              "      <td>0.014063</td>\n",
              "      <td>0.004496</td>\n",
              "      <td>0.021262</td>\n",
              "      <td>1.025881</td>\n",
              "      <td>0.004225</td>\n",
              "    </tr>\n",
              "    <tr>\n",
              "      <th>job_unknown</th>\n",
              "      <td>-0.009714</td>\n",
              "      <td>0.023727</td>\n",
              "      <td>0.003894</td>\n",
              "      <td>-0.009211</td>\n",
              "      <td>0.008510</td>\n",
              "      <td>0.029547</td>\n",
              "      <td>0.003020</td>\n",
              "      <td>0.000841</td>\n",
              "      <td>0.001168</td>\n",
              "      <td>0.002005</td>\n",
              "      <td>0.175579</td>\n",
              "      <td>-0.010045</td>\n",
              "      <td>-0.002855</td>\n",
              "      <td>0.004136</td>\n",
              "      <td>0.002511</td>\n",
              "      <td>-0.007881</td>\n",
              "      <td>-0.001925</td>\n",
              "    </tr>\n",
              "    <tr>\n",
              "      <th>poutcome_failure</th>\n",
              "      <td>1.052588</td>\n",
              "      <td>-0.006304</td>\n",
              "      <td>-0.042135</td>\n",
              "      <td>-0.338490</td>\n",
              "      <td>-0.107579</td>\n",
              "      <td>0.020253</td>\n",
              "      <td>-0.002908</td>\n",
              "      <td>0.003818</td>\n",
              "      <td>0.037816</td>\n",
              "      <td>-0.079275</td>\n",
              "      <td>0.022628</td>\n",
              "      <td>-0.008834</td>\n",
              "      <td>0.031294</td>\n",
              "      <td>-0.015372</td>\n",
              "      <td>0.021949</td>\n",
              "      <td>-0.335843</td>\n",
              "      <td>0.027040</td>\n",
              "    </tr>\n",
              "    <tr>\n",
              "      <th>duration</th>\n",
              "      <td>-0.010026</td>\n",
              "      <td>0.011873</td>\n",
              "      <td>-0.013466</td>\n",
              "      <td>0.039558</td>\n",
              "      <td>-0.008057</td>\n",
              "      <td>0.019233</td>\n",
              "      <td>0.009938</td>\n",
              "      <td>0.004440</td>\n",
              "      <td>-0.025101</td>\n",
              "      <td>-0.015007</td>\n",
              "      <td>-0.008010</td>\n",
              "      <td>-0.002501</td>\n",
              "      <td>0.008618</td>\n",
              "      <td>0.000518</td>\n",
              "      <td>0.000684</td>\n",
              "      <td>-0.001950</td>\n",
              "      <td>0.004030</td>\n",
              "    </tr>\n",
              "    <tr>\n",
              "      <th>marital_married</th>\n",
              "      <td>-0.041777</td>\n",
              "      <td>0.057928</td>\n",
              "      <td>0.951939</td>\n",
              "      <td>0.099804</td>\n",
              "      <td>-0.042636</td>\n",
              "      <td>0.016009</td>\n",
              "      <td>0.047160</td>\n",
              "      <td>-0.517494</td>\n",
              "      <td>-0.066596</td>\n",
              "      <td>-0.043216</td>\n",
              "      <td>0.084566</td>\n",
              "      <td>-0.034365</td>\n",
              "      <td>0.056069</td>\n",
              "      <td>-0.000768</td>\n",
              "      <td>0.035062</td>\n",
              "      <td>-0.001736</td>\n",
              "      <td>0.015925</td>\n",
              "    </tr>\n",
              "    <tr>\n",
              "      <th>contact_unknown</th>\n",
              "      <td>-0.145881</td>\n",
              "      <td>-0.008297</td>\n",
              "      <td>0.029732</td>\n",
              "      <td>-0.016220</td>\n",
              "      <td>0.966742</td>\n",
              "      <td>-0.003774</td>\n",
              "      <td>-0.035287</td>\n",
              "      <td>-0.032398</td>\n",
              "      <td>-0.239184</td>\n",
              "      <td>0.005190</td>\n",
              "      <td>0.028070</td>\n",
              "      <td>-0.022435</td>\n",
              "      <td>-0.021441</td>\n",
              "      <td>0.007671</td>\n",
              "      <td>0.017686</td>\n",
              "      <td>-0.006700</td>\n",
              "      <td>0.004631</td>\n",
              "    </tr>\n",
              "    <tr>\n",
              "      <th>job_management</th>\n",
              "      <td>-0.052724</td>\n",
              "      <td>-0.820262</td>\n",
              "      <td>0.070180</td>\n",
              "      <td>-0.035738</td>\n",
              "      <td>-0.034764</td>\n",
              "      <td>-0.013185</td>\n",
              "      <td>0.207884</td>\n",
              "      <td>0.067541</td>\n",
              "      <td>-0.025628</td>\n",
              "      <td>-0.083665</td>\n",
              "      <td>-0.070684</td>\n",
              "      <td>-0.200460</td>\n",
              "      <td>-0.070021</td>\n",
              "      <td>-0.028438</td>\n",
              "      <td>-0.102705</td>\n",
              "      <td>-0.013640</td>\n",
              "      <td>-0.133054</td>\n",
              "    </tr>\n",
              "    <tr>\n",
              "      <th>default</th>\n",
              "      <td>-0.028483</td>\n",
              "      <td>0.007569</td>\n",
              "      <td>-0.003043</td>\n",
              "      <td>-0.012601</td>\n",
              "      <td>-0.000318</td>\n",
              "      <td>-0.022233</td>\n",
              "      <td>0.005106</td>\n",
              "      <td>0.018213</td>\n",
              "      <td>-0.008322</td>\n",
              "      <td>-0.009522</td>\n",
              "      <td>-0.000086</td>\n",
              "      <td>-0.002423</td>\n",
              "      <td>0.005908</td>\n",
              "      <td>-0.003358</td>\n",
              "      <td>0.022172</td>\n",
              "      <td>-0.003676</td>\n",
              "      <td>0.002967</td>\n",
              "    </tr>\n",
              "    <tr>\n",
              "      <th>education_primary</th>\n",
              "      <td>0.041521</td>\n",
              "      <td>0.078560</td>\n",
              "      <td>-0.039659</td>\n",
              "      <td>0.006241</td>\n",
              "      <td>0.020808</td>\n",
              "      <td>-0.030045</td>\n",
              "      <td>0.040718</td>\n",
              "      <td>-0.047636</td>\n",
              "      <td>-0.032503</td>\n",
              "      <td>-0.014950</td>\n",
              "      <td>-0.124560</td>\n",
              "      <td>0.927614</td>\n",
              "      <td>0.016201</td>\n",
              "      <td>0.005747</td>\n",
              "      <td>0.009847</td>\n",
              "      <td>0.019054</td>\n",
              "      <td>-0.015192</td>\n",
              "    </tr>\n",
              "    <tr>\n",
              "      <th>campaign</th>\n",
              "      <td>-0.103729</td>\n",
              "      <td>-0.021712</td>\n",
              "      <td>0.018886</td>\n",
              "      <td>-0.022729</td>\n",
              "      <td>-0.014527</td>\n",
              "      <td>-0.030982</td>\n",
              "      <td>-0.015675</td>\n",
              "      <td>-0.007892</td>\n",
              "      <td>0.055371</td>\n",
              "      <td>-0.016886</td>\n",
              "      <td>0.007320</td>\n",
              "      <td>0.005403</td>\n",
              "      <td>-0.008204</td>\n",
              "      <td>-0.002639</td>\n",
              "      <td>-0.007719</td>\n",
              "      <td>0.006504</td>\n",
              "      <td>0.004237</td>\n",
              "    </tr>\n",
              "    <tr>\n",
              "      <th>loan</th>\n",
              "      <td>-0.011967</td>\n",
              "      <td>0.044740</td>\n",
              "      <td>0.051609</td>\n",
              "      <td>-0.024930</td>\n",
              "      <td>-0.031571</td>\n",
              "      <td>-0.031231</td>\n",
              "      <td>0.001033</td>\n",
              "      <td>0.008313</td>\n",
              "      <td>-0.002124</td>\n",
              "      <td>0.014796</td>\n",
              "      <td>-0.038052</td>\n",
              "      <td>-0.015284</td>\n",
              "      <td>-0.027592</td>\n",
              "      <td>0.015670</td>\n",
              "      <td>0.028116</td>\n",
              "      <td>-0.003406</td>\n",
              "      <td>-0.003336</td>\n",
              "    </tr>\n",
              "    <tr>\n",
              "      <th>job_student</th>\n",
              "      <td>0.000358</td>\n",
              "      <td>0.046458</td>\n",
              "      <td>-0.253760</td>\n",
              "      <td>0.012594</td>\n",
              "      <td>-0.035382</td>\n",
              "      <td>-0.035382</td>\n",
              "      <td>0.027478</td>\n",
              "      <td>-0.043633</td>\n",
              "      <td>0.044358</td>\n",
              "      <td>-0.012700</td>\n",
              "      <td>0.070154</td>\n",
              "      <td>-0.029033</td>\n",
              "      <td>-0.021559</td>\n",
              "      <td>-0.004891</td>\n",
              "      <td>0.016486</td>\n",
              "      <td>0.011952</td>\n",
              "      <td>-0.007271</td>\n",
              "    </tr>\n",
              "    <tr>\n",
              "      <th>contact_cellular</th>\n",
              "      <td>0.115381</td>\n",
              "      <td>-0.059473</td>\n",
              "      <td>0.044368</td>\n",
              "      <td>-0.048338</td>\n",
              "      <td>-0.934173</td>\n",
              "      <td>-0.039507</td>\n",
              "      <td>-0.016483</td>\n",
              "      <td>-0.020178</td>\n",
              "      <td>-0.349905</td>\n",
              "      <td>0.017527</td>\n",
              "      <td>0.020948</td>\n",
              "      <td>0.024821</td>\n",
              "      <td>-0.019503</td>\n",
              "      <td>-0.013409</td>\n",
              "      <td>-0.041854</td>\n",
              "      <td>0.020811</td>\n",
              "      <td>-0.011342</td>\n",
              "    </tr>\n",
              "    <tr>\n",
              "      <th>marital_single</th>\n",
              "      <td>-0.011050</td>\n",
              "      <td>0.010660</td>\n",
              "      <td>-1.051875</td>\n",
              "      <td>-0.165650</td>\n",
              "      <td>0.052509</td>\n",
              "      <td>-0.067000</td>\n",
              "      <td>-0.041962</td>\n",
              "      <td>-0.198016</td>\n",
              "      <td>0.005531</td>\n",
              "      <td>0.039040</td>\n",
              "      <td>-0.149850</td>\n",
              "      <td>0.050384</td>\n",
              "      <td>-0.057496</td>\n",
              "      <td>0.013838</td>\n",
              "      <td>0.018709</td>\n",
              "      <td>-0.015044</td>\n",
              "      <td>-0.018693</td>\n",
              "    </tr>\n",
              "    <tr>\n",
              "      <th>job_self-employed</th>\n",
              "      <td>0.031376</td>\n",
              "      <td>0.090068</td>\n",
              "      <td>0.056654</td>\n",
              "      <td>-0.025622</td>\n",
              "      <td>0.014428</td>\n",
              "      <td>-0.068282</td>\n",
              "      <td>0.092268</td>\n",
              "      <td>0.003887</td>\n",
              "      <td>0.017533</td>\n",
              "      <td>-0.036314</td>\n",
              "      <td>-0.016826</td>\n",
              "      <td>-0.035676</td>\n",
              "      <td>-0.063013</td>\n",
              "      <td>-0.038876</td>\n",
              "      <td>-0.069093</td>\n",
              "      <td>0.004630</td>\n",
              "      <td>1.047171</td>\n",
              "    </tr>\n",
              "    <tr>\n",
              "      <th>pdays</th>\n",
              "      <td>0.834304</td>\n",
              "      <td>0.021502</td>\n",
              "      <td>0.021117</td>\n",
              "      <td>0.041594</td>\n",
              "      <td>-0.082653</td>\n",
              "      <td>-0.092767</td>\n",
              "      <td>-0.015112</td>\n",
              "      <td>0.046401</td>\n",
              "      <td>0.062288</td>\n",
              "      <td>-0.034610</td>\n",
              "      <td>-0.002415</td>\n",
              "      <td>0.002823</td>\n",
              "      <td>0.000758</td>\n",
              "      <td>0.004907</td>\n",
              "      <td>0.041204</td>\n",
              "      <td>0.168155</td>\n",
              "      <td>0.009125</td>\n",
              "    </tr>\n",
              "    <tr>\n",
              "      <th>education_tertiary</th>\n",
              "      <td>-0.017602</td>\n",
              "      <td>-0.975999</td>\n",
              "      <td>0.001897</td>\n",
              "      <td>0.015710</td>\n",
              "      <td>-0.004667</td>\n",
              "      <td>-0.110953</td>\n",
              "      <td>0.002283</td>\n",
              "      <td>0.033013</td>\n",
              "      <td>-0.048834</td>\n",
              "      <td>-0.050393</td>\n",
              "      <td>-0.151077</td>\n",
              "      <td>-0.072493</td>\n",
              "      <td>-0.025625</td>\n",
              "      <td>-0.045316</td>\n",
              "      <td>0.074465</td>\n",
              "      <td>-0.012395</td>\n",
              "      <td>0.048898</td>\n",
              "    </tr>\n",
              "    <tr>\n",
              "      <th>job_technician</th>\n",
              "      <td>0.018108</td>\n",
              "      <td>0.251326</td>\n",
              "      <td>-0.007266</td>\n",
              "      <td>0.081714</td>\n",
              "      <td>0.014262</td>\n",
              "      <td>-0.120972</td>\n",
              "      <td>-1.156554</td>\n",
              "      <td>0.016137</td>\n",
              "      <td>-0.097421</td>\n",
              "      <td>-0.234793</td>\n",
              "      <td>-0.010356</td>\n",
              "      <td>-0.030570</td>\n",
              "      <td>-0.048286</td>\n",
              "      <td>-0.169008</td>\n",
              "      <td>-0.067241</td>\n",
              "      <td>-0.003322</td>\n",
              "      <td>-0.074046</td>\n",
              "    </tr>\n",
              "    <tr>\n",
              "      <th>education_unknown</th>\n",
              "      <td>0.029919</td>\n",
              "      <td>0.096548</td>\n",
              "      <td>0.043355</td>\n",
              "      <td>-0.028580</td>\n",
              "      <td>-0.036326</td>\n",
              "      <td>-0.149482</td>\n",
              "      <td>-0.003225</td>\n",
              "      <td>0.097021</td>\n",
              "      <td>-0.111923</td>\n",
              "      <td>0.019898</td>\n",
              "      <td>1.109672</td>\n",
              "      <td>-0.114621</td>\n",
              "      <td>-0.021182</td>\n",
              "      <td>0.027438</td>\n",
              "      <td>0.028664</td>\n",
              "      <td>0.012785</td>\n",
              "      <td>-0.005857</td>\n",
              "    </tr>\n",
              "    <tr>\n",
              "      <th>job_services</th>\n",
              "      <td>0.010329</td>\n",
              "      <td>0.117128</td>\n",
              "      <td>-0.000472</td>\n",
              "      <td>0.046021</td>\n",
              "      <td>0.019267</td>\n",
              "      <td>-0.154104</td>\n",
              "      <td>0.187036</td>\n",
              "      <td>-0.023978</td>\n",
              "      <td>0.015736</td>\n",
              "      <td>-0.206442</td>\n",
              "      <td>0.045738</td>\n",
              "      <td>0.062654</td>\n",
              "      <td>-0.038166</td>\n",
              "      <td>1.077602</td>\n",
              "      <td>-0.070045</td>\n",
              "      <td>0.004352</td>\n",
              "      <td>-0.035692</td>\n",
              "    </tr>\n",
              "    <tr>\n",
              "      <th>job_admin.</th>\n",
              "      <td>-0.059573</td>\n",
              "      <td>0.187332</td>\n",
              "      <td>-0.033676</td>\n",
              "      <td>0.070737</td>\n",
              "      <td>-0.009639</td>\n",
              "      <td>-0.164605</td>\n",
              "      <td>0.238607</td>\n",
              "      <td>0.012994</td>\n",
              "      <td>-0.044409</td>\n",
              "      <td>1.125126</td>\n",
              "      <td>0.024661</td>\n",
              "      <td>0.032080</td>\n",
              "      <td>-0.018344</td>\n",
              "      <td>-0.188757</td>\n",
              "      <td>-0.045272</td>\n",
              "      <td>-0.000340</td>\n",
              "      <td>-0.030276</td>\n",
              "    </tr>\n",
              "    <tr>\n",
              "      <th>job_unemployed</th>\n",
              "      <td>0.027768</td>\n",
              "      <td>0.122827</td>\n",
              "      <td>0.153381</td>\n",
              "      <td>-0.110917</td>\n",
              "      <td>-0.006132</td>\n",
              "      <td>-0.213995</td>\n",
              "      <td>0.050191</td>\n",
              "      <td>-0.003714</td>\n",
              "      <td>0.089187</td>\n",
              "      <td>-0.016834</td>\n",
              "      <td>-0.032259</td>\n",
              "      <td>0.013303</td>\n",
              "      <td>1.141890</td>\n",
              "      <td>-0.035032</td>\n",
              "      <td>-0.024449</td>\n",
              "      <td>0.013486</td>\n",
              "      <td>-0.055331</td>\n",
              "    </tr>\n",
              "    <tr>\n",
              "      <th>job_blue-collar</th>\n",
              "      <td>0.023256</td>\n",
              "      <td>0.226584</td>\n",
              "      <td>0.057037</td>\n",
              "      <td>0.029545</td>\n",
              "      <td>-0.005749</td>\n",
              "      <td>-0.221206</td>\n",
              "      <td>0.215907</td>\n",
              "      <td>-0.027605</td>\n",
              "      <td>0.051815</td>\n",
              "      <td>-0.217267</td>\n",
              "      <td>0.012494</td>\n",
              "      <td>0.175456</td>\n",
              "      <td>-0.092689</td>\n",
              "      <td>-0.242459</td>\n",
              "      <td>-0.105908</td>\n",
              "      <td>-0.008094</td>\n",
              "      <td>-0.050321</td>\n",
              "    </tr>\n",
              "    <tr>\n",
              "      <th>poutcome_success</th>\n",
              "      <td>0.038919</td>\n",
              "      <td>-0.013721</td>\n",
              "      <td>0.187606</td>\n",
              "      <td>1.260952</td>\n",
              "      <td>0.029297</td>\n",
              "      <td>-0.248504</td>\n",
              "      <td>-0.086263</td>\n",
              "      <td>0.064972</td>\n",
              "      <td>0.140311</td>\n",
              "      <td>0.085108</td>\n",
              "      <td>-0.035385</td>\n",
              "      <td>0.004950</td>\n",
              "      <td>-0.099443</td>\n",
              "      <td>0.032296</td>\n",
              "      <td>0.071968</td>\n",
              "      <td>-0.149159</td>\n",
              "      <td>-0.024573</td>\n",
              "    </tr>\n",
              "    <tr>\n",
              "      <th>housing</th>\n",
              "      <td>0.144859</td>\n",
              "      <td>0.019158</td>\n",
              "      <td>0.059384</td>\n",
              "      <td>-0.027931</td>\n",
              "      <td>0.163622</td>\n",
              "      <td>-0.299881</td>\n",
              "      <td>0.026747</td>\n",
              "      <td>0.005073</td>\n",
              "      <td>-0.037777</td>\n",
              "      <td>-0.006730</td>\n",
              "      <td>-0.026522</td>\n",
              "      <td>-0.014465</td>\n",
              "      <td>-0.018387</td>\n",
              "      <td>0.015348</td>\n",
              "      <td>-0.007484</td>\n",
              "      <td>0.021198</td>\n",
              "      <td>-0.006844</td>\n",
              "    </tr>\n",
              "  </tbody>\n",
              "</table>\n",
              "</div>"
            ],
            "text/plain": [
              "                     factor_1  factor_2  factor_3  factor_4  factor_5  \\\n",
              "job_retired          0.016541  0.162393 -0.024154 -0.124472  0.058293   \n",
              "age                  0.030635  0.102646  0.322156 -0.059776  0.049801   \n",
              "education_secondary -0.029110  0.852018  0.016972 -0.015632 -0.001636   \n",
              "balance              0.010551 -0.069528  0.012786 -0.000207  0.002747   \n",
              "job_entrepreneur     0.115043 -0.027219 -0.031267  0.099659  0.048622   \n",
              "contact_telephone    0.044210  0.129774 -0.138560  0.120518  0.036010   \n",
              "poutcome_unknown    -0.889804 -0.002599 -0.047656 -0.216237  0.082885   \n",
              "job_housemaid       -0.019506  0.020340  0.011356 -0.002369 -0.016784   \n",
              "marital_divorced     0.079762 -0.109708  0.064068  0.092621 -0.013474   \n",
              "poutcome_other       0.050178  0.027597 -0.015315 -0.215531 -0.021130   \n",
              "job_unknown         -0.009714  0.023727  0.003894 -0.009211  0.008510   \n",
              "poutcome_failure     1.052588 -0.006304 -0.042135 -0.338490 -0.107579   \n",
              "duration            -0.010026  0.011873 -0.013466  0.039558 -0.008057   \n",
              "marital_married     -0.041777  0.057928  0.951939  0.099804 -0.042636   \n",
              "contact_unknown     -0.145881 -0.008297  0.029732 -0.016220  0.966742   \n",
              "job_management      -0.052724 -0.820262  0.070180 -0.035738 -0.034764   \n",
              "default             -0.028483  0.007569 -0.003043 -0.012601 -0.000318   \n",
              "education_primary    0.041521  0.078560 -0.039659  0.006241  0.020808   \n",
              "campaign            -0.103729 -0.021712  0.018886 -0.022729 -0.014527   \n",
              "loan                -0.011967  0.044740  0.051609 -0.024930 -0.031571   \n",
              "job_student          0.000358  0.046458 -0.253760  0.012594 -0.035382   \n",
              "contact_cellular     0.115381 -0.059473  0.044368 -0.048338 -0.934173   \n",
              "marital_single      -0.011050  0.010660 -1.051875 -0.165650  0.052509   \n",
              "job_self-employed    0.031376  0.090068  0.056654 -0.025622  0.014428   \n",
              "pdays                0.834304  0.021502  0.021117  0.041594 -0.082653   \n",
              "education_tertiary  -0.017602 -0.975999  0.001897  0.015710 -0.004667   \n",
              "job_technician       0.018108  0.251326 -0.007266  0.081714  0.014262   \n",
              "education_unknown    0.029919  0.096548  0.043355 -0.028580 -0.036326   \n",
              "job_services         0.010329  0.117128 -0.000472  0.046021  0.019267   \n",
              "job_admin.          -0.059573  0.187332 -0.033676  0.070737 -0.009639   \n",
              "job_unemployed       0.027768  0.122827  0.153381 -0.110917 -0.006132   \n",
              "job_blue-collar      0.023256  0.226584  0.057037  0.029545 -0.005749   \n",
              "poutcome_success     0.038919 -0.013721  0.187606  1.260952  0.029297   \n",
              "housing              0.144859  0.019158  0.059384 -0.027931  0.163622   \n",
              "\n",
              "                     factor_6  factor_7  factor_8  factor_9  factor_10  \\\n",
              "job_retired          0.773038  0.045825  0.009017 -0.023647  -0.049023   \n",
              "age                  0.717340  0.032721  0.140488  0.032296  -0.037686   \n",
              "education_secondary  0.211866 -0.016368 -0.031036  0.120279   0.036669   \n",
              "balance              0.128649  0.011778 -0.021055  0.016554  -0.015824   \n",
              "job_entrepreneur     0.088703  0.067013 -0.101623  0.060498  -0.041869   \n",
              "contact_telephone    0.086999  0.095717  0.096450  1.100604  -0.042960   \n",
              "poutcome_unknown     0.078173  0.041428 -0.048814 -0.080611   0.023566   \n",
              "job_housemaid        0.057609 -0.004055  0.006868  0.012955   0.014275   \n",
              "marital_divorced     0.056882 -0.013771  1.088304  0.096207   0.011442   \n",
              "poutcome_other       0.047979  0.003638  0.028963 -0.032251  -0.000191   \n",
              "job_unknown          0.029547  0.003020  0.000841  0.001168   0.002005   \n",
              "poutcome_failure     0.020253 -0.002908  0.003818  0.037816  -0.079275   \n",
              "duration             0.019233  0.009938  0.004440 -0.025101  -0.015007   \n",
              "marital_married      0.016009  0.047160 -0.517494 -0.066596  -0.043216   \n",
              "contact_unknown     -0.003774 -0.035287 -0.032398 -0.239184   0.005190   \n",
              "job_management      -0.013185  0.207884  0.067541 -0.025628  -0.083665   \n",
              "default             -0.022233  0.005106  0.018213 -0.008322  -0.009522   \n",
              "education_primary   -0.030045  0.040718 -0.047636 -0.032503  -0.014950   \n",
              "campaign            -0.030982 -0.015675 -0.007892  0.055371  -0.016886   \n",
              "loan                -0.031231  0.001033  0.008313 -0.002124   0.014796   \n",
              "job_student         -0.035382  0.027478 -0.043633  0.044358  -0.012700   \n",
              "contact_cellular    -0.039507 -0.016483 -0.020178 -0.349905   0.017527   \n",
              "marital_single      -0.067000 -0.041962 -0.198016  0.005531   0.039040   \n",
              "job_self-employed   -0.068282  0.092268  0.003887  0.017533  -0.036314   \n",
              "pdays               -0.092767 -0.015112  0.046401  0.062288  -0.034610   \n",
              "education_tertiary  -0.110953  0.002283  0.033013 -0.048834  -0.050393   \n",
              "job_technician      -0.120972 -1.156554  0.016137 -0.097421  -0.234793   \n",
              "education_unknown   -0.149482 -0.003225  0.097021 -0.111923   0.019898   \n",
              "job_services        -0.154104  0.187036 -0.023978  0.015736  -0.206442   \n",
              "job_admin.          -0.164605  0.238607  0.012994 -0.044409   1.125126   \n",
              "job_unemployed      -0.213995  0.050191 -0.003714  0.089187  -0.016834   \n",
              "job_blue-collar     -0.221206  0.215907 -0.027605  0.051815  -0.217267   \n",
              "poutcome_success    -0.248504 -0.086263  0.064972  0.140311   0.085108   \n",
              "housing             -0.299881  0.026747  0.005073 -0.037777  -0.006730   \n",
              "\n",
              "                     factor_11  factor_12  factor_13  factor_14  factor_15  \\\n",
              "job_retired          -0.049584   0.050432  -0.096352  -0.018959   0.008239   \n",
              "age                   0.058355   0.079771  -0.034813  -0.034017   0.024576   \n",
              "education_secondary  -0.181576  -0.635531   0.018053   0.015326  -0.091848   \n",
              "balance              -0.001120  -0.020543   0.001683  -0.019746   0.015801   \n",
              "job_entrepreneur      0.037788   0.012628  -0.025647  -0.063795   1.090346   \n",
              "contact_telephone    -0.090442  -0.005959   0.075906   0.011713   0.048190   \n",
              "poutcome_unknown      0.010583   0.007027   0.014930  -0.005377  -0.062724   \n",
              "job_housemaid        -0.008406   0.157323  -0.000486   0.014205  -0.002979   \n",
              "marital_divorced      0.089839  -0.024504  -0.000744  -0.018681  -0.083474   \n",
              "poutcome_other       -0.023336  -0.004770   0.014063   0.004496   0.021262   \n",
              "job_unknown           0.175579  -0.010045  -0.002855   0.004136   0.002511   \n",
              "poutcome_failure      0.022628  -0.008834   0.031294  -0.015372   0.021949   \n",
              "duration             -0.008010  -0.002501   0.008618   0.000518   0.000684   \n",
              "marital_married       0.084566  -0.034365   0.056069  -0.000768   0.035062   \n",
              "contact_unknown       0.028070  -0.022435  -0.021441   0.007671   0.017686   \n",
              "job_management       -0.070684  -0.200460  -0.070021  -0.028438  -0.102705   \n",
              "default              -0.000086  -0.002423   0.005908  -0.003358   0.022172   \n",
              "education_primary    -0.124560   0.927614   0.016201   0.005747   0.009847   \n",
              "campaign              0.007320   0.005403  -0.008204  -0.002639  -0.007719   \n",
              "loan                 -0.038052  -0.015284  -0.027592   0.015670   0.028116   \n",
              "job_student           0.070154  -0.029033  -0.021559  -0.004891   0.016486   \n",
              "contact_cellular      0.020948   0.024821  -0.019503  -0.013409  -0.041854   \n",
              "marital_single       -0.149850   0.050384  -0.057496   0.013838   0.018709   \n",
              "job_self-employed    -0.016826  -0.035676  -0.063013  -0.038876  -0.069093   \n",
              "pdays                -0.002415   0.002823   0.000758   0.004907   0.041204   \n",
              "education_tertiary   -0.151077  -0.072493  -0.025625  -0.045316   0.074465   \n",
              "job_technician       -0.010356  -0.030570  -0.048286  -0.169008  -0.067241   \n",
              "education_unknown     1.109672  -0.114621  -0.021182   0.027438   0.028664   \n",
              "job_services          0.045738   0.062654  -0.038166   1.077602  -0.070045   \n",
              "job_admin.            0.024661   0.032080  -0.018344  -0.188757  -0.045272   \n",
              "job_unemployed       -0.032259   0.013303   1.141890  -0.035032  -0.024449   \n",
              "job_blue-collar       0.012494   0.175456  -0.092689  -0.242459  -0.105908   \n",
              "poutcome_success     -0.035385   0.004950  -0.099443   0.032296   0.071968   \n",
              "housing              -0.026522  -0.014465  -0.018387   0.015348  -0.007484   \n",
              "\n",
              "                     factor_16  factor_17  \n",
              "job_retired           0.019716  -0.036127  \n",
              "age                   0.013910  -0.016087  \n",
              "education_secondary  -0.008503  -0.033605  \n",
              "balance               0.003160   0.007933  \n",
              "job_entrepreneur      0.021977  -0.059750  \n",
              "contact_telephone    -0.026847   0.013246  \n",
              "poutcome_unknown     -0.183204  -0.012258  \n",
              "job_housemaid        -0.007261  -0.004063  \n",
              "marital_divorced      0.024672   0.003274  \n",
              "poutcome_other        1.025881   0.004225  \n",
              "job_unknown          -0.007881  -0.001925  \n",
              "poutcome_failure     -0.335843   0.027040  \n",
              "duration             -0.001950   0.004030  \n",
              "marital_married      -0.001736   0.015925  \n",
              "contact_unknown      -0.006700   0.004631  \n",
              "job_management       -0.013640  -0.133054  \n",
              "default              -0.003676   0.002967  \n",
              "education_primary     0.019054  -0.015192  \n",
              "campaign              0.006504   0.004237  \n",
              "loan                 -0.003406  -0.003336  \n",
              "job_student           0.011952  -0.007271  \n",
              "contact_cellular      0.020811  -0.011342  \n",
              "marital_single       -0.015044  -0.018693  \n",
              "job_self-employed     0.004630   1.047171  \n",
              "pdays                 0.168155   0.009125  \n",
              "education_tertiary   -0.012395   0.048898  \n",
              "job_technician       -0.003322  -0.074046  \n",
              "education_unknown     0.012785  -0.005857  \n",
              "job_services          0.004352  -0.035692  \n",
              "job_admin.           -0.000340  -0.030276  \n",
              "job_unemployed        0.013486  -0.055331  \n",
              "job_blue-collar      -0.008094  -0.050321  \n",
              "poutcome_success     -0.149159  -0.024573  \n",
              "housing               0.021198  -0.006844  "
            ]
          },
          "execution_count": 174,
          "metadata": {},
          "output_type": "execute_result"
        }
      ],
      "source": [
        "loadings.sort_values(by='factor_6', ascending=False)"
      ]
    },
    {
      "cell_type": "code",
      "execution_count": null,
      "id": "609ee1c9",
      "metadata": {
        "id": "609ee1c9"
      },
      "outputs": [],
      "source": [
        "alpha = 0.95"
      ]
    },
    {
      "cell_type": "code",
      "execution_count": null,
      "id": "46ecea28",
      "metadata": {
        "id": "46ecea28",
        "outputId": "9bc2a9ea-0863-4148-bc29-fe27be66d8a0"
      },
      "outputs": [
        {
          "data": {
            "text/plain": [
              "PearsonRResult(statistic=0.7010523794843222, pvalue=0.0)"
            ]
          },
          "execution_count": 142,
          "metadata": {},
          "output_type": "execute_result"
        }
      ],
      "source": [
        "res = st.pearsonr(df['poutcome_failure'], df['pdays'])\n",
        "res"
      ]
    },
    {
      "cell_type": "code",
      "execution_count": null,
      "id": "ce8f8e72",
      "metadata": {
        "id": "ce8f8e72",
        "outputId": "3918b23a-f850-4946-b5df-f54222360d62"
      },
      "outputs": [
        {
          "data": {
            "text/plain": [
              "ConfidenceInterval(low=0.6963343948261674, high=0.7057097787851632)"
            ]
          },
          "execution_count": 143,
          "metadata": {},
          "output_type": "execute_result"
        }
      ],
      "source": [
        "res.confidence_interval(confidence_level=alpha)"
      ]
    },
    {
      "cell_type": "code",
      "execution_count": null,
      "id": "c875b799",
      "metadata": {
        "id": "c875b799",
        "outputId": "2b5ca10d-a27f-4aba-9ecc-f53e964405cf"
      },
      "outputs": [
        {
          "data": {
            "text/plain": [
              "PearsonRResult(statistic=0.1574433826189694, pvalue=9.157614509460852e-249)"
            ]
          },
          "execution_count": 144,
          "metadata": {},
          "output_type": "execute_result"
        }
      ],
      "source": [
        "res = st.pearsonr(df['education_secondary'], df['job_technician'])\n",
        "res"
      ]
    },
    {
      "cell_type": "code",
      "execution_count": null,
      "id": "ee5eed8d",
      "metadata": {
        "id": "ee5eed8d",
        "outputId": "db51503d-d126-4ab5-f5eb-39a6272807ce"
      },
      "outputs": [
        {
          "data": {
            "text/plain": [
              "ConfidenceInterval(low=0.1484409944348373, high=0.16641967861754034)"
            ]
          },
          "execution_count": 145,
          "metadata": {},
          "output_type": "execute_result"
        }
      ],
      "source": [
        "res.confidence_interval(confidence_level=alpha)"
      ]
    },
    {
      "cell_type": "code",
      "execution_count": null,
      "id": "de6c5bde",
      "metadata": {
        "id": "de6c5bde",
        "outputId": "476c1053-4c99-488a-abde-24a2abb482c3"
      },
      "outputs": [
        {
          "data": {
            "text/plain": [
              "PearsonRResult(statistic=0.28625688005679306, pvalue=0.0)"
            ]
          },
          "execution_count": 146,
          "metadata": {},
          "output_type": "execute_result"
        }
      ],
      "source": [
        "res = st.pearsonr(df['marital_married'], df['age'])\n",
        "res"
      ]
    },
    {
      "cell_type": "code",
      "execution_count": null,
      "id": "629740ba",
      "metadata": {
        "id": "629740ba",
        "outputId": "3f658894-61ce-4824-f15d-d157c84ea8aa",
        "scrolled": true
      },
      "outputs": [
        {
          "data": {
            "text/plain": [
              "ConfidenceInterval(low=0.2777720087330492, high=0.2946970917747956)"
            ]
          },
          "execution_count": 147,
          "metadata": {},
          "output_type": "execute_result"
        }
      ],
      "source": [
        "res.confidence_interval(confidence_level=alpha)"
      ]
    },
    {
      "cell_type": "code",
      "execution_count": null,
      "id": "a311bd02",
      "metadata": {
        "id": "a311bd02",
        "outputId": "da964000-87b6-4523-8408-37aa9e21ae51"
      },
      "outputs": [
        {
          "data": {
            "text/plain": [
              "PearsonRResult(statistic=0.026105285096545534, pvalue=2.831840237592431e-08)"
            ]
          },
          "execution_count": 148,
          "metadata": {},
          "output_type": "execute_result"
        }
      ],
      "source": [
        "res = st.pearsonr(df['marital_single'], df['poutcome_success'])\n",
        "res"
      ]
    },
    {
      "cell_type": "code",
      "execution_count": null,
      "id": "e4c69960",
      "metadata": {
        "id": "e4c69960",
        "outputId": "d6b0660d-e6c1-47f4-bd37-508fee19875d"
      },
      "outputs": [
        {
          "data": {
            "text/plain": [
              "ConfidenceInterval(low=0.01689153147202334, high=0.03531460550722245)"
            ]
          },
          "execution_count": 150,
          "metadata": {},
          "output_type": "execute_result"
        }
      ],
      "source": [
        "res.confidence_interval(confidence_level=alpha)"
      ]
    }
  ],
  "metadata": {
    "colab": {
      "provenance": []
    },
    "kernelspec": {
      "display_name": "Python 3 (ipykernel)",
      "language": "python",
      "name": "python3"
    },
    "language_info": {
      "codemirror_mode": {
        "name": "ipython",
        "version": 3
      },
      "file_extension": ".py",
      "mimetype": "text/x-python",
      "name": "python",
      "nbconvert_exporter": "python",
      "pygments_lexer": "ipython3",
      "version": "3.11.5"
    }
  },
  "nbformat": 4,
  "nbformat_minor": 5
}
